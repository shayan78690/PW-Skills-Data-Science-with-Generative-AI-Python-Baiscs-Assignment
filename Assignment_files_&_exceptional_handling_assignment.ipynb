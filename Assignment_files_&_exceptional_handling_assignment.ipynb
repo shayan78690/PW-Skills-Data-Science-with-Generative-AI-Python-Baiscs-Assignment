{
  "cells": [
    {
      "cell_type": "markdown",
      "source": [
        "#Assignment : files & exceptional handling assignment"
      ],
      "metadata": {
        "id": "zv3eDUUI-Kv4"
      }
    },
    {
      "cell_type": "markdown",
      "source": [
        "#Files, exceptional handling, logging and memory management Questions\n"
      ],
      "metadata": {
        "id": "sLrGRpI7-Snx"
      }
    },
    {
      "cell_type": "markdown",
      "metadata": {
        "id": "nDuuanvNXl8i"
      },
      "source": [
        "#Q.1 What is the difference between interpreted and compiled languages?"
      ]
    },
    {
      "cell_type": "markdown",
      "metadata": {
        "id": "jRXUcru1X314"
      },
      "source": [
        "Ans:- Interpreted Language - Interpreted language are those language in which code is executed line by line means it is executed directly without a seperate compilation step to convert into machine code. Python uses mix of interpretation and compilation but it is considered as interpreted language.\n",
        "The interpreter reads and executes the source code directly.\n",
        "No separate executable file is created.\n",
        "Python, JavaScript, Ruby, PHP."
      ]
    },
    {
      "cell_type": "markdown",
      "metadata": {
        "id": "a_uIgFaFXmDT"
      },
      "source": [
        "\n",
        "Compiled Language - The code written in compiled languages is translated into machine code (binary) by a compiler before it is executed.\n",
        "The compiler translates the entire source code into a standalone executable file.\n",
        "This executable file can run directly on the system without needing the original source code or compiler.\n",
        "Examples: C, C++, Rust, Go."
      ]
    },
    {
      "cell_type": "markdown",
      "metadata": {
        "id": "-LMieMNJXmHp"
      },
      "source": [
        "#Q.2  What is exception handling in Python?"
      ]
    },
    {
      "cell_type": "markdown",
      "metadata": {
        "id": "FN2RL2jQZVOd"
      },
      "source": [
        "Ans:- Exception:-\n",
        "\n",
        "\n",
        "*   Something that disrupts the normal event is exception.\n",
        "*   In python, an exception is an event that occurs during the program execution that diisrupts the regular flow of code.\n",
        "*   For example, when a key is not found in a dictionary. A python object that reflect an error is known as an exception.\n",
        "*   In python, an exception is an object derived from the BaseException class that includes information about a method error occurence.\n",
        "\n",
        "\n",
        "\n"
      ]
    },
    {
      "cell_type": "markdown",
      "metadata": {
        "id": "URfz_h98ZVR_"
      },
      "source": [
        "#Q.3  What is the purpose of the finally block in exception handling?"
      ]
    },
    {
      "cell_type": "markdown",
      "metadata": {
        "id": "bIr18hV8ZVVV"
      },
      "source": [
        "Ans:- The finally block in Python is used in exception handling to define a block of code that will always execute, regardless of whether an exception occurred in the try block or not. Its primary purpose is to ensure that important cleanup tasks are performed, such as releasing resources, closing files, or cleaning up after operations"
      ]
    },
    {
      "cell_type": "code",
      "execution_count": null,
      "metadata": {
        "colab": {
          "base_uri": "https://localhost:8080/"
        },
        "id": "WL2k3e7ka6Eh",
        "outputId": "0acaf89b-aac9-4e27-afd1-56c78eac674b"
      },
      "outputs": [
        {
          "name": "stdout",
          "output_type": "stream",
          "text": [
            "This will always be executed\n"
          ]
        }
      ],
      "source": [
        "#Syntax\n",
        "try:\n",
        "  pass\n",
        "except ExceptionType:\n",
        "  pass\n",
        "finally:\n",
        "  print(\"This will always be executed\")"
      ]
    },
    {
      "cell_type": "markdown",
      "metadata": {
        "id": "3XxoECpYZVYV"
      },
      "source": [
        "#Q.4  What is logging in Python?"
      ]
    },
    {
      "cell_type": "markdown",
      "metadata": {
        "id": "udorJx5jZVdk"
      },
      "source": [
        "Ans:- Logging:-\n",
        "Logging in Python is a way to track events that happen when a program runs. These events can provide insights into the program's behavior, especially for debugging, troubleshooting, or monitoring the software. Python's built-in logging module makes it easy to record messages of varying severity to different destinations (e.g., console, files, or external systems).\n",
        "\n",
        "*   It records the state and flow of your program/code/software.\n",
        "*   It is useful for understanding, monitoring and debugging of your code.\n",
        "*   It shows how program behaves over time.\n",
        "*   There are various levels of logging:\n",
        "    1.   DEBUG\n",
        "    2.   INFO\n",
        "    3. WARNING\n",
        "    4. ERROR\n",
        "    5. CRITICAL\n",
        "\n",
        "\n",
        "\n"
      ]
    },
    {
      "cell_type": "code",
      "execution_count": null,
      "metadata": {
        "colab": {
          "base_uri": "https://localhost:8080/"
        },
        "id": "AoQ3UzMccnw-",
        "outputId": "e03cd896-3bab-42f2-f3bb-e477e6775843"
      },
      "outputs": [
        {
          "name": "stderr",
          "output_type": "stream",
          "text": [
            "WARNING:root:This is a warning message\n",
            "ERROR:root:This is an error message\n",
            "CRITICAL:root:This is a critical message\n"
          ]
        }
      ],
      "source": [
        "import logging\n",
        "\n",
        "logging.basicConfig(filename = \"test.log\", level=logging.DEBUG)\n",
        "\n",
        "logging.debug(\"This is a debug message\")\n",
        "logging.info(\"This is an info message\")\n",
        "logging.warning(\"This is a warning message\")\n",
        "logging.error(\"This is an error message\")\n",
        "logging.critical(\"This is a critical message\")"
      ]
    },
    {
      "cell_type": "markdown",
      "metadata": {
        "id": "7kafEAx9ZVhJ"
      },
      "source": [
        "#Q.5 What is the significance of the __del__ method in Python?"
      ]
    },
    {
      "cell_type": "markdown",
      "metadata": {
        "id": "jeLyP2JrZVmW"
      },
      "source": [
        "Ans:- The __del__ method in Python is a special method (also called a destructor) that is automatically called when an object is about to be destroyed, typically during garbage collection. It allows you to define cleanup actions that should occur when an object is no longer in use.\n"
      ]
    },
    {
      "cell_type": "markdown",
      "metadata": {
        "id": "1MyeJKFzZVqQ"
      },
      "source": [
        "Purpose:\n",
        "1. To clean up resources (e.g., closing files, releasing network connections, freeing up memory).\n",
        "2. Ensures proper management of resources before the object is deleted."
      ]
    },
    {
      "cell_type": "markdown",
      "metadata": {
        "id": "dxDNYcabZVtm"
      },
      "source": [
        "When It Is Called:\n",
        "1. The __del__ method is invoked when the reference count of an object drops to zero.\n",
        "2. Python's garbage collector determines when the object is eligible for destruction."
      ]
    },
    {
      "cell_type": "markdown",
      "metadata": {
        "id": "ehwElE7cZVw1"
      },
      "source": [
        "It is not mandatory to define a __del__ method in your class."
      ]
    },
    {
      "cell_type": "code",
      "execution_count": null,
      "metadata": {
        "colab": {
          "base_uri": "https://localhost:8080/"
        },
        "id": "dmSC92Y-dfxG",
        "outputId": "57ca3527-a5be-44ad-8f62-7497d3fd41f8"
      },
      "outputs": [
        {
          "name": "stdout",
          "output_type": "stream",
          "text": [
            "File 'example.txt' opened.\n",
            "File closed.\n"
          ]
        }
      ],
      "source": [
        "#Example\n",
        "class FileHandler:\n",
        "    def __init__(self, filename):\n",
        "        self.file = open(filename, 'w')\n",
        "        print(f\"File '{filename}' opened.\")\n",
        "\n",
        "    def __del__(self):\n",
        "        self.file.close()\n",
        "        print(\"File closed.\")\n",
        "\n",
        "handler = FileHandler(\"example.txt\")\n",
        "del handler  # Destructor is called explicitly"
      ]
    },
    {
      "cell_type": "markdown",
      "metadata": {
        "id": "YcDdoXmXZV0v"
      },
      "source": [
        "#Q.6 What is the difference between import and from ... import in Python?"
      ]
    },
    {
      "cell_type": "markdown",
      "metadata": {
        "id": "suf2jjoOZV3d"
      },
      "source": [
        "Ans:- In Python, the import and from ... import statements are used to include functionality from modules or packages into your code. While they serve similar purposes, there are differences in how they work and how they are used."
      ]
    },
    {
      "cell_type": "markdown",
      "metadata": {
        "id": "0HbyNKffZV9G"
      },
      "source": [
        "1. import Statement-  Imports the entire module or package into the current namespace."
      ]
    },
    {
      "cell_type": "code",
      "execution_count": null,
      "metadata": {
        "colab": {
          "base_uri": "https://localhost:8080/"
        },
        "id": "uJ_fP-fReIeE",
        "outputId": "db76dbcf-5c9f-441b-f062-eb51e853b4ba"
      },
      "outputs": [
        {
          "name": "stdout",
          "output_type": "stream",
          "text": [
            "2.0\n"
          ]
        }
      ],
      "source": [
        "#Example\n",
        "import math #math is a module\n",
        "print(math.sqrt(4))"
      ]
    },
    {
      "cell_type": "markdown",
      "metadata": {
        "id": "YRXEqXTYZWAo"
      },
      "source": [
        "2. from ... import Statement- Imports specific components (functions, classes, or variables) directly into the current namespace."
      ]
    },
    {
      "cell_type": "code",
      "execution_count": null,
      "metadata": {
        "colab": {
          "base_uri": "https://localhost:8080/"
        },
        "id": "JblCXR8Yel3_",
        "outputId": "4a2c28b2-65a6-4188-a921-ceeb58da1626"
      },
      "outputs": [
        {
          "name": "stdout",
          "output_type": "stream",
          "text": [
            "4.0\n"
          ]
        }
      ],
      "source": [
        "#Example\n",
        "from math import sqrt\n",
        "print(sqrt(16))"
      ]
    },
    {
      "cell_type": "markdown",
      "metadata": {
        "id": "o_CcDm6-ZWDv"
      },
      "source": [
        "#Q.7 How can you handle multiple exceptions in Python?"
      ]
    },
    {
      "cell_type": "markdown",
      "metadata": {
        "id": "5YG5DhW1ZWGs"
      },
      "source": [
        "Ans:- In Python, you can handle multiple exceptions in a try-except block to manage different types of errors effectively. There are several ways to handle multiple exceptions based on the context and requirements."
      ]
    },
    {
      "cell_type": "code",
      "execution_count": null,
      "metadata": {
        "colab": {
          "base_uri": "https://localhost:8080/"
        },
        "id": "3fIU-YFTfG6i",
        "outputId": "695c0744-e704-4916-f1c8-27e84f503ed1"
      },
      "outputs": [
        {
          "name": "stdout",
          "output_type": "stream",
          "text": [
            "Division by zero is not allowed.\n"
          ]
        }
      ],
      "source": [
        "#Example\n",
        "try:\n",
        "    10/0\n",
        "except ValueError:\n",
        "    print(\"Invalid input! Please enter a valid number.\")\n",
        "except ZeroDivisionError:\n",
        "    print(\"Division by zero is not allowed.\")"
      ]
    },
    {
      "cell_type": "code",
      "execution_count": null,
      "metadata": {
        "colab": {
          "base_uri": "https://localhost:8080/"
        },
        "id": "8XoXPrX0fI4h",
        "outputId": "53fd4398-65a7-46ce-e6a3-bdb611cffbf6"
      },
      "outputs": [
        {
          "name": "stdout",
          "output_type": "stream",
          "text": [
            "An error occurred: division by zero\n"
          ]
        }
      ],
      "source": [
        "#Example\n",
        "try:\n",
        "    10/0\n",
        "except (ValueError, ZeroDivisionError) as e:\n",
        "    print(f\"An error occurred: {e}\")"
      ]
    },
    {
      "cell_type": "markdown",
      "metadata": {
        "id": "Kn5K4tJ_fco-"
      },
      "source": [
        "#Q.8 What is the purpose of the with statement when handling files in Python?"
      ]
    },
    {
      "cell_type": "markdown",
      "metadata": {
        "id": "cG7gdzjXfc3G"
      },
      "source": [
        "Ans:- The with statement in Python is primarily used for resource management and exception handling. When dealing with files, it ensures that resources, such as file objects, are properly acquired and released, even if an error occurs during file operations."
      ]
    },
    {
      "cell_type": "code",
      "execution_count": null,
      "metadata": {
        "colab": {
          "base_uri": "https://localhost:8080/"
        },
        "id": "vNvCgd50gFgb",
        "outputId": "5ced0f69-a295-4083-ea0a-f7020c000f08"
      },
      "outputs": [
        {
          "name": "stdout",
          "output_type": "stream",
          "text": [
            "\n"
          ]
        }
      ],
      "source": [
        "#Example\n",
        "with open(\"example.txt\", \"r\") as file:\n",
        "    content = file.read()\n",
        "    print(content)\n",
        "# File is automatically closed after the block"
      ]
    },
    {
      "cell_type": "markdown",
      "metadata": {
        "id": "jwRxf1Jbfc7n"
      },
      "source": [
        "#Q.9 What is the difference between multithreading and multiprocessing?"
      ]
    },
    {
      "cell_type": "markdown",
      "metadata": {
        "id": "1zmO70EQfc_E"
      },
      "source": [
        "Ans:- Multithreading:-\n",
        "1. Multithreading involves running multiple threads (smaller units of a process) within the same process.\n",
        "2. Threads share the same memory space.\n",
        "3. Use Case: Ideal for I/O-bound tasks where threads spend time waiting for external resources (e.g., file reading, network calls).\n",
        "\n",
        "Key Features of Multithreading:-\n",
        "1. Resource Sharing - Threads share the same memory and resources of the parent process.\n",
        "2. Lightweight - Threads are lightweight compared to processes.\n",
        "3. Concurrency - Achieved via thread scheduling (context switching).\n",
        "4. GIL Limitation - In Python, the Global Interpreter Lock (GIL) allows only one thread to execute Python bytecode at a time.\n",
        "5. Overhead - Low overhead as threads share memory.\n",
        "6. Example Tasks - Web scraping, downloading files, GUI applications."
      ]
    },
    {
      "cell_type": "code",
      "execution_count": null,
      "metadata": {
        "colab": {
          "base_uri": "https://localhost:8080/"
        },
        "id": "oWyHFI8ZiQq-",
        "outputId": "b2790b9f-c241-480f-96db-8f1ae2c960b2"
      },
      "outputs": [
        {
          "name": "stdout",
          "output_type": "stream",
          "text": [
            "0\n",
            "1\n",
            "2\n",
            "3\n",
            "4\n",
            "0\n",
            "1\n",
            "2\n",
            "3\n",
            "4\n"
          ]
        }
      ],
      "source": [
        "#Example\n",
        "import threading\n",
        "\n",
        "def print_numbers():\n",
        "    for i in range(5):\n",
        "        print(i)\n",
        "\n",
        "thread1 = threading.Thread(target=print_numbers)\n",
        "thread2 = threading.Thread(target=print_numbers)\n",
        "\n",
        "thread1.start()\n",
        "thread2.start()\n",
        "\n",
        "thread1.join()\n",
        "thread2.join()"
      ]
    },
    {
      "cell_type": "markdown",
      "metadata": {
        "id": "1YnjXnCIfdCa"
      },
      "source": [
        "Multiprocessing:-\n",
        "1. Multiprocessing involves running multiple processes, each with its own memory space and resources.\n",
        "2. Use Case: Ideal for CPU-bound tasks where processes need to perform heavy computations.\n",
        "\n",
        "Key Features of Multiprocessing:-\n",
        "1. Independent Memory - Each process has its own memory space, no shared memory.\n",
        "2. Heavyweight - Processes are heavier than threads due to their independence.\n",
        "3. True Parallelism - Achieved on multi-core CPUs, as each process can run on a separate core.\n",
        "4. No GIL Limitation - GIL does not affect multiprocessing in Python, allowing true parallelism.\n",
        "5. Overhead - Higher overhead due to inter-process communication (IPC).\n",
        "6. Example Tasks - Scientific computations, data analysis, image processing."
      ]
    },
    {
      "cell_type": "code",
      "execution_count": null,
      "metadata": {
        "colab": {
          "base_uri": "https://localhost:8080/"
        },
        "id": "QEc0VKz7ibBV",
        "outputId": "d4418cc1-d155-4579-d81a-fb9ebcb6b665"
      },
      "outputs": [
        {
          "name": "stdout",
          "output_type": "stream",
          "text": [
            "0\n",
            "0\n",
            "11\n",
            "\n",
            "22\n",
            "\n",
            "33\n",
            "\n",
            "44\n",
            "\n"
          ]
        }
      ],
      "source": [
        "#Example\n",
        "import multiprocessing\n",
        "\n",
        "def print_numbers():\n",
        "    for i in range(5):\n",
        "        print(i)\n",
        "\n",
        "process1 = multiprocessing.Process(target=print_numbers)\n",
        "process2 = multiprocessing.Process(target=print_numbers)\n",
        "\n",
        "process1.start()\n",
        "process2.start()\n",
        "\n",
        "process1.join()\n",
        "process2.join()"
      ]
    },
    {
      "cell_type": "markdown",
      "metadata": {
        "id": "58SZftACfdGR"
      },
      "source": [
        "#Q.10 What are the advantages of using logging in a program?"
      ]
    },
    {
      "cell_type": "markdown",
      "metadata": {
        "id": "Vqlh7bxpfdJ4"
      },
      "source": [
        "Ans:-Advantages of Using Logging in a Program:\n",
        "\n",
        "1. Logging helps you keep track of what your program is doing. It records important events, such as when a task starts, ends, or if there’s an error.\n",
        "\n",
        "2. If something goes wrong, the logs help you find out where and why it happened. They show the sequence of events leading up to the problem.\n",
        "\n",
        "3. Logging captures errors (like when your program crashes) and stores useful information, which can help you or others fix the problem later.\n",
        "\n",
        "4. Logs act as a history, so you can go back and see what happened in the past. This is useful for tracking changes over time.\n",
        "\n",
        "5. Instead of printing messages to the screen, logging stores them in files. This way, you don't clutter the console and can look at logs later when needed."
      ]
    },
    {
      "cell_type": "code",
      "execution_count": null,
      "metadata": {
        "colab": {
          "base_uri": "https://localhost:8080/"
        },
        "id": "LFBljU1Xjbeu",
        "outputId": "9908a442-c8e6-4cc0-c82a-f2f762af34d0"
      },
      "outputs": [
        {
          "name": "stderr",
          "output_type": "stream",
          "text": [
            "ERROR:root:Error: File not found\n"
          ]
        }
      ],
      "source": [
        "#Example\n",
        "import logging\n",
        "logging.error(\"Error: File not found\")"
      ]
    },
    {
      "cell_type": "markdown",
      "metadata": {
        "id": "aBdJ6vRFjan8"
      },
      "source": [
        "#Q.11 What is memory management in Python?"
      ]
    },
    {
      "cell_type": "markdown",
      "metadata": {
        "id": "IVIJCauYfdNH"
      },
      "source": [
        "Ans:- Memory management in Python refers to the process of handling the allocation, usage, and deallocation of memory for objects in a Python program. Python provides built-in tools and features to manage memory efficiently, so the programmer doesn't need to manually handle memory allocation and deallocation."
      ]
    },
    {
      "cell_type": "markdown",
      "metadata": {
        "id": "eB4FdsChj3gN"
      },
      "source": [
        "Key Concepts in Python Memory Management:-\n",
        "\n",
        "1. Automatic Memory Management: Python automatically allocates memory for objects when they are created and releases it when they are no longer needed (i.e., when they go out of scope or are deleted).\n",
        "\n",
        "2. Memory Allocation: When you create a variable or object in Python, memory is allocated dynamically.\n",
        "\n",
        "3. Garbage Collection: Garbage collection is the process of automatically reclaiming memory that is no longer being used by the program.In Python, this is done by the garbage collector, which tracks and frees memory from objects that are no longer referenced by any part of the program. The reference counting mechanism is used, where each object has a reference count that tracks how many references are pointing to it. When this count reaches zero, the object is automatically deleted. Additionally, Python’s garbage collector deals with circular references (where two objects refer to each other) which regular reference counting can’t clean up."
      ]
    },
    {
      "cell_type": "markdown",
      "metadata": {
        "id": "o-ZduuW_fdP3"
      },
      "source": [
        "#Q.12 What are the basic steps involved in exception handling in Python?"
      ]
    },
    {
      "cell_type": "markdown",
      "metadata": {
        "id": "cpMLQYzufdTb"
      },
      "source": [
        "Ans:- Exception handling in Python is a process of managing runtime errors, so the program can continue its execution or handle errors gracefully instead of crashing. The key steps in exception handling are:"
      ]
    },
    {
      "cell_type": "markdown",
      "metadata": {
        "id": "1nEwEVoVk9ap"
      },
      "source": [
        "1. Try Block - The try block is used to write the code that might cause an exception (error).\n",
        "If any error occurs inside the try block, Python immediately jumps to the except block to handle it."
      ]
    },
    {
      "cell_type": "markdown",
      "metadata": {
        "id": "N2zxDFX5k9hJ"
      },
      "source": [
        "2. Except Block - The except block is used to catch and handle exceptions raised by the code in the try block.\n",
        "You can specify the type of exception to catch (e.g., ZeroDivisionError, FileNotFoundError), or use a general except to catch all exceptions."
      ]
    },
    {
      "cell_type": "markdown",
      "metadata": {
        "id": "xuQtUrJhk9lE"
      },
      "source": [
        "3. Else Block - The else block is optional and runs only if no exception was raised in the try block. It allows you to write code that should only execute when there’s no error."
      ]
    },
    {
      "cell_type": "markdown",
      "metadata": {
        "id": "9pkpxRAnk9q8"
      },
      "source": [
        "4.  Finally Block - The finally block is also optional. It is used to execute code that must always run, regardless of whether an exception occurred or not (like closing a file or releasing a resource).\n",
        "Even if there’s an exception, the finally block will execute."
      ]
    },
    {
      "cell_type": "code",
      "execution_count": null,
      "metadata": {
        "colab": {
          "base_uri": "https://localhost:8080/"
        },
        "id": "tiWAl_sllvs1",
        "outputId": "158161f7-d229-4cc0-9928-39fb7b0c382f"
      },
      "outputs": [
        {
          "name": "stdout",
          "output_type": "stream",
          "text": [
            "Division successful!\n",
            "This block always runs.\n"
          ]
        }
      ],
      "source": [
        "#Example\n",
        "try:\n",
        "    x = 10 / 2\n",
        "except ZeroDivisionError:\n",
        "    print(\"Cannot divide by zero!\")\n",
        "else:\n",
        "    print(\"Division successful!\")\n",
        "finally:\n",
        "    print(\"This block always runs.\")"
      ]
    },
    {
      "cell_type": "markdown",
      "metadata": {
        "id": "rnt5uQ-1fdZC"
      },
      "source": [
        "#Q.13 Why is memory management important in Python?"
      ]
    },
    {
      "cell_type": "markdown",
      "metadata": {
        "id": "TsjnBbG9fdcR"
      },
      "source": [
        "Ans:- Memory management in Python is important because it helps ensure that your program runs efficiently and does not use more memory than necessary.\n",
        "\n",
        "1. Efficient Use of Resources: Proper memory management helps your program use the computer’s memory efficiently, preventing it from consuming too much and slowing down your system.\n",
        "\n",
        "2. Prevents Memory Leaks: If your program keeps using memory without releasing it, it can eventually cause a memory leak, where the system runs out of memory. Python automatically manages memory, so you don’t have to worry about this as much.\n",
        "\n",
        "3. Faster Program: When memory is managed well, your program can run faster because it doesn’t have to repeatedly allocate and free memory. This is especially important for programs that process large amounts of data.\n",
        "\n",
        "4. Keeps Programs Stable: Memory management prevents programs from crashing due to out-of-memory errors. Python’s garbage collection system ensures that unused memory is automatically freed up.\n",
        "\n",
        "5. Less Manual Work: In languages like C, developers have to manually allocate and deallocate memory. Python handles this automatically, making your job easier and reducing the chance of errors."
      ]
    },
    {
      "cell_type": "markdown",
      "metadata": {
        "id": "wZV1Eatefdfd"
      },
      "source": [
        "#Q.14 What is the role of try and except in exception handling?"
      ]
    },
    {
      "cell_type": "markdown",
      "metadata": {
        "id": "SaL0Z-20fdiM"
      },
      "source": [
        "Ans: In Python, try and except are used together in exception handling to manage errors and prevent the program from crashing.\n",
        "\n",
        "Role of try:\n",
        "1. The try block is used to write the code that might cause an exception (error).\n",
        "2. It allows you to \"try\" executing the code, and if an error occurs, it will not crash the program, but instead, Python will jump to the except block to handle the error.\n",
        "\n",
        "Role of except:\n",
        "1. The except block is used to catch and handle the exception raised by the code in the try block.\n",
        "2. It prevents the program from crashing and lets you manage or log the error in a controlled way."
      ]
    },
    {
      "cell_type": "code",
      "execution_count": null,
      "metadata": {
        "colab": {
          "base_uri": "https://localhost:8080/"
        },
        "id": "BKpLGWFyoo5W",
        "outputId": "f09ec907-620d-4c7f-f413-e2c86d553acd"
      },
      "outputs": [
        {
          "name": "stdout",
          "output_type": "stream",
          "text": [
            "You can't divide by zero!\n"
          ]
        }
      ],
      "source": [
        "#Example\n",
        "try:\n",
        "    result = 10 / 0\n",
        "except ZeroDivisionError:\n",
        "    print(\"You can't divide by zero!\")"
      ]
    },
    {
      "cell_type": "markdown",
      "metadata": {
        "id": "hzLHz-CGfdlE"
      },
      "source": [
        "#Q.15 How does Python's garbage collection system work?"
      ]
    },
    {
      "cell_type": "markdown",
      "metadata": {
        "id": "VwL0hvreo3sJ"
      },
      "source": [
        "Ans: Python's garbage collection system is responsible for automatically managing memory by cleaning up objects that are no longer needed.\n",
        "\n",
        "\n",
        "1. Reference Counting: Every object in Python has a reference count that tracks how many times it is being used (referenced).\n",
        "When the reference count drops to zero (i.e., no part of the program is using the object anymore), Python automatically frees the memory.\n",
        "\n",
        "2. Garbage Collector: Sometimes objects refer to each other in a loop (called circular references), which can't be handled by just reference counting.\n",
        "Python uses a garbage collector to detect and clean up these circular references, even if the reference count isn't zero.\n",
        "\n",
        "3. Automatic Memory Management: You don't need to manually free memory; Python does it for you, making sure that unused memory is reclaimed so that your program doesn't run out of memory."
      ]
    },
    {
      "cell_type": "markdown",
      "metadata": {
        "id": "Uaa-BljJo33n"
      },
      "source": [
        "#Q.16  What is the purpose of the else block in exception handling?"
      ]
    },
    {
      "cell_type": "markdown",
      "metadata": {
        "id": "MzIg2Nclo37s"
      },
      "source": [
        "Ans:- The else block in exception handling in Python is used to define code that should run only if no exception was raised in the try block.\n",
        "The else block allows you to execute code after the try block successfully completes (i.e., without errors).\n",
        "It helps separate the logic for normal execution from the logic that handles exceptions, making the code cleaner and more organized."
      ]
    },
    {
      "cell_type": "code",
      "execution_count": null,
      "metadata": {
        "colab": {
          "base_uri": "https://localhost:8080/"
        },
        "id": "GRl-ZZxxpv8J",
        "outputId": "9467e252-6250-40cf-f998-5980a83dc3db"
      },
      "outputs": [
        {
          "name": "stdout",
          "output_type": "stream",
          "text": [
            "Division was successful!\n"
          ]
        }
      ],
      "source": [
        "#Example\n",
        "try:\n",
        "    num = 10 / 2\n",
        "except ZeroDivisionError:\n",
        "    print(\"You can't divide by zero!\")\n",
        "else:\n",
        "    print(\"Division was successful!\")\n"
      ]
    },
    {
      "cell_type": "markdown",
      "metadata": {
        "id": "q-JrGNj1o4CS"
      },
      "source": [
        "#Q.17 What are the common logging levels in Python?"
      ]
    },
    {
      "cell_type": "markdown",
      "metadata": {
        "id": "SBpUW-uvo4Ga"
      },
      "source": [
        "Ans:- In Python, the logging module provides several logging levels to indicate the severity of events or messages in your program. Here are the common logging levels, listed from lowest to highest severity:"
      ]
    },
    {
      "cell_type": "markdown",
      "metadata": {
        "id": "WXI2y9Iao4Ub"
      },
      "source": [
        "1. DEBUG: Used for detailed information, typically useful for diagnosing problems. It’s the least severe level."
      ]
    },
    {
      "cell_type": "code",
      "execution_count": null,
      "metadata": {
        "id": "Kuflc2CXqc3n"
      },
      "outputs": [],
      "source": [
        "#Example\n",
        "logging.debug(\"This is a debug message.\")"
      ]
    },
    {
      "cell_type": "markdown",
      "metadata": {
        "id": "7RitohIho4Ym"
      },
      "source": [
        "2. INFO: Used for general information about the program’s execution, often to confirm that things are working as expected."
      ]
    },
    {
      "cell_type": "code",
      "execution_count": null,
      "metadata": {
        "id": "IJoCVHoOquVx"
      },
      "outputs": [],
      "source": [
        "#Example\n",
        "logging.info(\"Program started successfully.\")"
      ]
    },
    {
      "cell_type": "markdown",
      "metadata": {
        "id": "mfIBYzi-o4dv"
      },
      "source": [
        "3. WARNING: Used when something unexpected happens, but it doesn't stop the program. It's a warning that may need attention."
      ]
    },
    {
      "cell_type": "code",
      "execution_count": null,
      "metadata": {
        "colab": {
          "base_uri": "https://localhost:8080/"
        },
        "id": "LMp9J9Idq8KC",
        "outputId": "926b5875-4449-44e5-c970-e2da291bb426"
      },
      "outputs": [
        {
          "name": "stderr",
          "output_type": "stream",
          "text": [
            "WARNING:root:Low disk space.\n"
          ]
        }
      ],
      "source": [
        "#Example\n",
        "logging.warning(\"Low disk space.\")"
      ]
    },
    {
      "cell_type": "markdown",
      "metadata": {
        "id": "gpNhH2uro4iK"
      },
      "source": [
        "4. ERROR: Used when something goes wrong, but the program can still run. It indicates a problem that needs fixing."
      ]
    },
    {
      "cell_type": "code",
      "execution_count": null,
      "metadata": {
        "colab": {
          "base_uri": "https://localhost:8080/"
        },
        "id": "VNaD6D9prLD1",
        "outputId": "e19485ed-a30c-43d4-9f38-54c16fcb92bc"
      },
      "outputs": [
        {
          "name": "stderr",
          "output_type": "stream",
          "text": [
            "ERROR:root:File not found.\n"
          ]
        }
      ],
      "source": [
        "#Example\n",
        "logging.error(\"File not found.\")"
      ]
    },
    {
      "cell_type": "markdown",
      "metadata": {
        "id": "FdrVvZf6o4nR"
      },
      "source": [
        "5. CRITICAL: Used for very severe errors that may cause the program to stop or fail. This is the highest level of logging."
      ]
    },
    {
      "cell_type": "code",
      "execution_count": null,
      "metadata": {
        "colab": {
          "base_uri": "https://localhost:8080/"
        },
        "id": "8-hd2N9hrXm3",
        "outputId": "a47a02de-cc1d-4624-ea79-1b512465f0c9"
      },
      "outputs": [
        {
          "name": "stderr",
          "output_type": "stream",
          "text": [
            "CRITICAL:root:System crash, shutting down.\n"
          ]
        }
      ],
      "source": [
        "#Example\n",
        "logging.critical(\"System crash, shutting down.\")"
      ]
    },
    {
      "cell_type": "markdown",
      "metadata": {
        "id": "sz2uADqIo4r-"
      },
      "source": [
        "#Q.18 What is the difference between os.fork() and multiprocessing in Python?"
      ]
    },
    {
      "cell_type": "markdown",
      "metadata": {
        "id": "zqjCTssao4wq"
      },
      "source": [
        "Ans:- Difference Between os.fork() and multiprocessing in Python:-"
      ]
    },
    {
      "cell_type": "markdown",
      "metadata": {
        "id": "ohWIQY15o4-D"
      },
      "source": [
        "os.fork():-\n",
        "\n",
        "1. Low-level method to create a new process by splitting the current process into two: the parent and the child.\n",
        "2. Available only on Unix-based systems (Linux, macOS).\n",
        "3. The child process is a copy of the parent, with its own memory space, and it runs independently.\n",
        "4. Not easy to manage and handle, especially for complex tasks."
      ]
    },
    {
      "cell_type": "code",
      "execution_count": null,
      "metadata": {
        "colab": {
          "base_uri": "https://localhost:8080/"
        },
        "id": "xyHk3jjisnXQ",
        "outputId": "bf724518-15cc-4b82-9d6e-7666f240014c"
      },
      "outputs": [
        {
          "name": "stdout",
          "output_type": "stream",
          "text": [
            "Parent process\n",
            "Child process\n"
          ]
        }
      ],
      "source": [
        "#Example\n",
        "import os\n",
        "pid = os.fork()\n",
        "if pid == 0:\n",
        "    print(\"Child process\")\n",
        "else:\n",
        "    print(\"Parent process\")"
      ]
    },
    {
      "cell_type": "markdown",
      "metadata": {
        "id": "KYxA8Vpso5De"
      },
      "source": [
        "multiprocessing:-\n",
        "\n",
        "1. Higher-level library that allows you to easily create and manage multiple processes.\n",
        "2. Works on all platforms (including Windows).\n",
        "3.. Provides more control and features, such as sharing data between processes, synchronization, and process pools.\n",
        "4. Better suited for managing parallel tasks in Python."
      ]
    },
    {
      "cell_type": "code",
      "execution_count": null,
      "metadata": {
        "id": "ukJrabTRtNyt"
      },
      "outputs": [],
      "source": [
        "#Example\n",
        "from multiprocessing import Process\n",
        "def print_message():\n",
        "    print(\"Hello from child process!\")\n",
        "\n",
        "process = Process(target=print_message)\n",
        "process.start()\n",
        "process.join()"
      ]
    },
    {
      "cell_type": "markdown",
      "metadata": {
        "id": "a1bNVIAzo5H3"
      },
      "source": [
        "#Q.19 What is the importance of closing a file in Python?"
      ]
    },
    {
      "cell_type": "markdown",
      "metadata": {
        "id": "TrzlVtDMtPHt"
      },
      "source": [
        "Ans:- Closing a file in Python is important because:\n",
        "\n",
        "1. Releases Resources: It frees up system resources (like memory and file handles) that were being used by the file.\n",
        "2. Prevents Data Loss: It ensures that all data is properly written to the file and no changes are lost.\n",
        "3. Prevents Errors: Leaving a file open may cause issues, such as not being able to open the file again or running out of system resources."
      ]
    },
    {
      "cell_type": "markdown",
      "metadata": {
        "id": "mxpU5Otfo5ML"
      },
      "source": [
        "#20. What is the difference between file.read() and file.readline() in Python?"
      ]
    },
    {
      "cell_type": "markdown",
      "metadata": {
        "id": "E20Fus5Bo5QC"
      },
      "source": [
        "Ans:- The difference between file.read() and file.readline() in Python is:"
      ]
    },
    {
      "cell_type": "markdown",
      "metadata": {
        "id": "GwugGVvno5To"
      },
      "source": [
        "file.read():-\n",
        "\n",
        "1. Reads the entire content of the file as a single string.\n",
        "2. It reads all lines at once, without breaking them into individual lines.\n",
        "3. Useful when you want to load the whole file into memory."
      ]
    },
    {
      "cell_type": "code",
      "execution_count": null,
      "metadata": {
        "id": "-IHaMa0BuRef"
      },
      "outputs": [],
      "source": [
        "#Example\n",
        "with open('example.txt', 'r') as file:\n",
        "    content = file.read()\n",
        "print(content)"
      ]
    },
    {
      "cell_type": "markdown",
      "metadata": {
        "id": "LBwMkujWo5fy"
      },
      "source": [
        "file.readline():-\n",
        "1. Reads one line at a time from the file.\n",
        "2. After each call, the file's cursor moves to the next line.\n",
        "3. Useful when you need to process the file line by line, especially for large files."
      ]
    },
    {
      "cell_type": "code",
      "execution_count": null,
      "metadata": {
        "id": "O2zMekU-ua61"
      },
      "outputs": [],
      "source": [
        "#Example\n",
        "with open('example.txt', 'r') as file:\n",
        "    line = file.readline()\n",
        "print(line)"
      ]
    },
    {
      "cell_type": "markdown",
      "metadata": {
        "id": "7nskYz4Ou12X"
      },
      "source": [
        "#Q.21 What is the logging module in Python used for?"
      ]
    },
    {
      "cell_type": "markdown",
      "metadata": {
        "id": "zFT0VMP3u1-4"
      },
      "source": [
        "Ans:- The logging module in Python is used to track and record events that happen while your program is running. It helps you keep a record of messages, errors, and important information, which can be useful for debugging or understanding the program's behavior."
      ]
    },
    {
      "cell_type": "code",
      "execution_count": null,
      "metadata": {
        "colab": {
          "base_uri": "https://localhost:8080/"
        },
        "id": "gLIYJk6mvAfX",
        "outputId": "014a9823-92a5-4231-c972-c9d0d49823ca"
      },
      "outputs": [
        {
          "name": "stderr",
          "output_type": "stream",
          "text": [
            "ERROR:root:This is an error message.\n"
          ]
        }
      ],
      "source": [
        "#Example\n",
        "import logging\n",
        "\n",
        "logging.basicConfig(level=logging.INFO)\n",
        "logging.info(\"This is an info message.\")\n",
        "logging.error(\"This is an error message.\")"
      ]
    },
    {
      "cell_type": "markdown",
      "metadata": {
        "id": "Qa8u-2qDu2CX"
      },
      "source": [
        "#Q.22 What is the os module in Python used for in file handling?"
      ]
    },
    {
      "cell_type": "markdown",
      "metadata": {
        "id": "uHxPv1cgu2Fj"
      },
      "source": [
        "Ans:- The os module in Python is used for interacting with the operating system and performing tasks related to file handling. It allows you to work with files and directories, such as:\n",
        "\n",
        "1. Creating, removing, and renaming files and directories.\n",
        "2. Checking if files or directories exist.\n",
        "3. Getting information about files, like their size or permissions."
      ]
    },
    {
      "cell_type": "code",
      "execution_count": null,
      "metadata": {
        "colab": {
          "base_uri": "https://localhost:8080/"
        },
        "id": "9Z_LbtyjviTT",
        "outputId": "1aca7b0c-bdbe-4965-f6d9-590f4852720f"
      },
      "outputs": [
        {
          "name": "stdout",
          "output_type": "stream",
          "text": [
            "File exists!\n"
          ]
        }
      ],
      "source": [
        "#Example\n",
        "import os\n",
        "\n",
        "\n",
        "os.mkdir(\"new_folder\")\n",
        "\n",
        "if os.path.exists(\"example.txt\"):\n",
        "    print(\"File exists!\")\n",
        "\n",
        "\n",
        "os.remove(\"example.txt\")"
      ]
    },
    {
      "cell_type": "markdown",
      "metadata": {
        "id": "8s4B702Bu2MB"
      },
      "source": [
        "#Q.23 What are the challenges associated with memory management in Python?"
      ]
    },
    {
      "cell_type": "markdown",
      "metadata": {
        "id": "_nKDoxlMu2Q7"
      },
      "source": [
        "Ans:-\n",
        "1. Automatic Garbage Collection: While Python automatically manages memory, it can sometimes struggle with circular references (objects referring to each other), which might not get cleaned up promptly.\n",
        "\n",
        "2. Memory Leaks: Memory leaks can happen if objects are not properly cleaned up or if there are unintended references keeping objects alive longer than needed.\n",
        "\n",
        "3. High Memory Consumption: Python’s memory usage can be higher than some other languages because it uses dynamic typing and keeps objects in memory for efficiency.\n",
        "\n",
        "4. Limited Control: Python doesn’t provide fine-grained control over memory allocation and deallocation, which can be a disadvantage for performance-critical applications."
      ]
    },
    {
      "cell_type": "markdown",
      "metadata": {
        "id": "bIk9FvO_vwgm"
      },
      "source": [
        "#Q.24 How do you raise an exception manually in Python?"
      ]
    },
    {
      "cell_type": "markdown",
      "metadata": {
        "id": "u5NH2WqqvwlO"
      },
      "source": [
        "Ans:- In Python, you can raise an exception manually using the raise keyword. This allows you to trigger an exception at any point in your program, either with a predefined exception or a custom one."
      ]
    },
    {
      "cell_type": "code",
      "execution_count": null,
      "metadata": {
        "id": "KyXE130Cw0-I"
      },
      "outputs": [],
      "source": [
        "#Example\n",
        "x = -1\n",
        "if x < 0:\n",
        "    raise ValueError(\"x cannot be negative\")"
      ]
    },
    {
      "cell_type": "code",
      "execution_count": null,
      "metadata": {
        "id": "svnRyhXwxA4H"
      },
      "outputs": [],
      "source": [
        "#Example\n",
        "class MyCustomError(Exception):\n",
        "    pass\n",
        "\n",
        "raise MyCustomError(\"This is a custom error\")"
      ]
    },
    {
      "cell_type": "markdown",
      "metadata": {
        "id": "Ka2FVdHQvw04"
      },
      "source": [
        "#Q.25 Why is it important to use multithreading in certain applications?"
      ]
    },
    {
      "cell_type": "markdown",
      "metadata": {
        "id": "5JMjqIWbxWGh"
      },
      "source": [
        "Ans:- Multithreading is important in certain applications because it allows the program to perform multiple tasks simultaneously. This can improve efficiency, especially in tasks that are I/O-bound (like reading files or making network requests) or tasks that can be broken into smaller parts.\n",
        "\n",
        "Benefits:\n",
        "1. Faster Execution: By running tasks in parallel, it can reduce overall execution time.\n",
        "2. Better Resource Utilization: It uses CPU and I/O resources more effectively.\n",
        "3. Improved User Experience: It can keep the application responsive while performing background tasks."
      ]
    },
    {
      "cell_type": "markdown",
      "metadata": {
        "id": "f-2SSDbXyXRy"
      },
      "source": [
        "********************************************************************************************************************************************************************************************************************************************************************************************************************************"
      ]
    },
    {
      "cell_type": "markdown",
      "metadata": {
        "id": "znFiCfrUxp2c"
      },
      "source": [
        "#Practical Questions"
      ]
    },
    {
      "cell_type": "markdown",
      "metadata": {
        "id": "t1QlHqy4xp5_"
      },
      "source": [
        "#Q.1 How can you open a file for writing in Python and write a string to it?"
      ]
    },
    {
      "cell_type": "code",
      "execution_count": null,
      "metadata": {
        "id": "TKCm7D3yx6Qv"
      },
      "outputs": [],
      "source": [
        "with open(\"shayan.txt\", \"w\") as f:\n",
        "  f.write(\"This is my Assignment\")\n",
        "  f.write(\"I am learning Data Science\")"
      ]
    },
    {
      "cell_type": "markdown",
      "metadata": {
        "id": "coaW3Y-dxp9G"
      },
      "source": [
        "#Q.2 Write a Python program to read the contents of a file and print each line."
      ]
    },
    {
      "cell_type": "code",
      "execution_count": null,
      "metadata": {
        "colab": {
          "base_uri": "https://localhost:8080/"
        },
        "id": "U6XLuW9Yynn1",
        "outputId": "a6be3b6f-0339-417b-d50f-57d96f9a5fc4"
      },
      "outputs": [
        {
          "name": "stdout",
          "output_type": "stream",
          "text": [
            "This is my AssignmentI am learning Data Science "
          ]
        }
      ],
      "source": [
        "with open(\"shayan.txt\", \"r\") as f:\n",
        "  for line in f:\n",
        "    print(line, end = \" \")"
      ]
    },
    {
      "cell_type": "markdown",
      "metadata": {
        "id": "HoDBmU8gxqA_"
      },
      "source": [
        "#Q.3 How would you handle a case where the file doesn't exist while trying to open it for reading?"
      ]
    },
    {
      "cell_type": "code",
      "execution_count": null,
      "metadata": {
        "colab": {
          "base_uri": "https://localhost:8080/"
        },
        "id": "BcVWyZFQzS4h",
        "outputId": "9a296045-99e0-4011-f06e-8a34864a4e3a"
      },
      "outputs": [
        {
          "name": "stdout",
          "output_type": "stream",
          "text": [
            "File not found\n"
          ]
        }
      ],
      "source": [
        "try:\n",
        "  with open(\"pwskills.txt\", \"r\") as f:\n",
        "    for line in f:\n",
        "      print(line, end = \" \")\n",
        "except FileNotFoundError:\n",
        "  print(\"File not found\")"
      ]
    },
    {
      "cell_type": "markdown",
      "metadata": {
        "id": "OqRo2W_WxqDv"
      },
      "source": [
        "#Q.4 Write a Python script that reads from one file and writes its content to another file"
      ]
    },
    {
      "cell_type": "code",
      "execution_count": null,
      "metadata": {
        "colab": {
          "base_uri": "https://localhost:8080/"
        },
        "id": "ccyvIq8LzypN",
        "outputId": "39642d3f-3dc6-4977-c33a-02111f64fad0"
      },
      "outputs": [
        {
          "name": "stdout",
          "output_type": "stream",
          "text": [
            "File data copied successfully\n"
          ]
        }
      ],
      "source": [
        "try:\n",
        "  with open(\"shayan.txt\", \"r\") as source, open(\"pwskills.txt\", \"w\") as destination:\n",
        "    content = source.read()\n",
        "    destination.write(content)\n",
        "  print(\"File data copied successfully\")\n",
        "except FileNotFoundError:\n",
        "  print(\"File not found\")"
      ]
    },
    {
      "cell_type": "markdown",
      "metadata": {
        "id": "NmOIDvBcxqGn"
      },
      "source": [
        "#Q.5 How would you catch and handle division by zero error in Python?"
      ]
    },
    {
      "cell_type": "code",
      "execution_count": null,
      "metadata": {
        "colab": {
          "base_uri": "https://localhost:8080/"
        },
        "id": "cT-i-Pc80x7N",
        "outputId": "2464a482-9215-4e0c-e753-590497e3f9c0"
      },
      "outputs": [
        {
          "name": "stdout",
          "output_type": "stream",
          "text": [
            "Error: Division by zero\n"
          ]
        }
      ],
      "source": [
        "try:\n",
        "  result = 10/0\n",
        "except ZeroDivisionError:\n",
        "  print(\"Error: Division by zero\")\n",
        "else:\n",
        "  print(\"The result is:\", result)"
      ]
    },
    {
      "cell_type": "markdown",
      "metadata": {
        "id": "4HBLqTk6xgjE"
      },
      "source": [
        "#Q.6 Write a Python program that logs an error message to a log file when a division by zero exception occurs?"
      ]
    },
    {
      "cell_type": "code",
      "execution_count": null,
      "metadata": {
        "colab": {
          "base_uri": "https://localhost:8080/"
        },
        "id": "ixp9pt0K1SMj",
        "outputId": "391786b2-c2e7-4274-ef80-9bf4d2360984"
      },
      "outputs": [
        {
          "name": "stderr",
          "output_type": "stream",
          "text": [
            "ERROR:root:Error: Division by zero - division by zero\n"
          ]
        },
        {
          "name": "stdout",
          "output_type": "stream",
          "text": [
            "Error has been logged.\n"
          ]
        }
      ],
      "source": [
        "import logging\n",
        "\n",
        "logging.basicConfig(filename='error_log.txt', level=logging.ERROR, format='%(asctime)s - %(levelname)s - %(message)s')\n",
        "\n",
        "try:\n",
        "    result = 10 / 0\n",
        "except ZeroDivisionError as e:\n",
        "    logging.error(\"Error: Division by zero - %s\", e)\n",
        "\n",
        "print(\"Error has been logged.\")"
      ]
    },
    {
      "cell_type": "markdown",
      "metadata": {
        "id": "7ccHrizJ1d1K"
      },
      "source": [
        "#Q.7 How do you log information at different levels (INFO, ERROR, WARNING) in Python using the logging module?"
      ]
    },
    {
      "cell_type": "code",
      "execution_count": null,
      "metadata": {
        "colab": {
          "base_uri": "https://localhost:8080/"
        },
        "id": "-Y4bjxxj1qde",
        "outputId": "189f435a-2732-4867-f20d-2b222280385c"
      },
      "outputs": [
        {
          "name": "stderr",
          "output_type": "stream",
          "text": [
            "WARNING:root:This is a WARNING message\n",
            "ERROR:root:This is an ERROR message\n",
            "CRITICAL:root:This is a CRITICAL message\n"
          ]
        }
      ],
      "source": [
        "import logging\n",
        "\n",
        "logging.basicConfig(filename='app.log', level=logging.DEBUG, format='%(asctime)s - %(levelname)s - %(message)s')\n",
        "\n",
        "logging.debug(\"This is a DEBUG message\")  # For debugging purposes\n",
        "logging.info(\"This is an INFO message\")   # For general information\n",
        "logging.warning(\"This is a WARNING message\")  # For warnings about potential issues\n",
        "logging.error(\"This is an ERROR message\")   # When something goes wrong\n",
        "logging.critical(\"This is a CRITICAL message\")  # For serious errors"
      ]
    },
    {
      "cell_type": "markdown",
      "metadata": {
        "id": "oUiG8nYY1d5U"
      },
      "source": [
        "#Q.8 Write a program to handle a file opening error using exception handling?"
      ]
    },
    {
      "cell_type": "code",
      "execution_count": null,
      "metadata": {
        "colab": {
          "base_uri": "https://localhost:8080/"
        },
        "id": "FqSkFsA917nP",
        "outputId": "7474b1e9-c912-4304-a8c6-ca2007d0593a"
      },
      "outputs": [
        {
          "name": "stdout",
          "output_type": "stream",
          "text": [
            "Error: The file does not exist.\n"
          ]
        }
      ],
      "source": [
        "try:\n",
        "  with open('non_existent_file.txt', 'r') as file:\n",
        "    content = file.read()\n",
        "    print(content)\n",
        "except FileNotFoundError:\n",
        "  print(\"Error: The file does not exist.\")\n",
        "except IOError:\n",
        "  print(\"Error: There was an issue reading the file.\")"
      ]
    },
    {
      "cell_type": "markdown",
      "metadata": {
        "id": "nGvnlMdb1d8r"
      },
      "source": [
        "#Q.9 How can you read a file line by line and store its content in a list in Python?"
      ]
    },
    {
      "cell_type": "code",
      "execution_count": null,
      "metadata": {
        "colab": {
          "base_uri": "https://localhost:8080/"
        },
        "id": "BEUiMmiB2PuC",
        "outputId": "0c0c1d54-3c2e-4c91-ea6b-6e6e4ed52da6"
      },
      "outputs": [
        {
          "name": "stdout",
          "output_type": "stream",
          "text": [
            "['Hello', 'World', 'Python']\n"
          ]
        }
      ],
      "source": [
        "try:\n",
        "  with open('example.txt', 'r') as file:\n",
        "    lines = file.readlines()\n",
        "    lines = [line.strip() for line in lines]\n",
        "  print(lines)\n",
        "except FileNotFoundError:\n",
        "  print(\"The file does not exist.\")"
      ]
    },
    {
      "cell_type": "markdown",
      "metadata": {
        "id": "bqAjEQXd28hl"
      },
      "source": [
        "#Q.10 How can you append data to an existing file in Python?"
      ]
    },
    {
      "cell_type": "code",
      "execution_count": null,
      "metadata": {
        "colab": {
          "base_uri": "https://localhost:8080/"
        },
        "id": "RF5iBj592rDe",
        "outputId": "0ab5029e-db8a-4f26-83b3-959813b5e128"
      },
      "outputs": [
        {
          "name": "stdout",
          "output_type": "stream",
          "text": [
            "Data has been appended to the file.\n"
          ]
        }
      ],
      "source": [
        "with open('example.txt', 'a') as file:\n",
        "  file.write(\"This is the new data that will be appended.\\n\")\n",
        "  file.write(\"Appending more data.\\n\")\n",
        "\n",
        "print(\"Data has been appended to the file.\")\n"
      ]
    },
    {
      "cell_type": "markdown",
      "metadata": {
        "id": "-Xd8ZVwi1eAl"
      },
      "source": [
        "#Q.11 Write a Python program that uses a try-except block to handle an error when attempting to access a dictionary key that doesn't exist."
      ]
    },
    {
      "cell_type": "code",
      "execution_count": null,
      "metadata": {
        "colab": {
          "base_uri": "https://localhost:8080/"
        },
        "id": "mB_lU3rl3iz9",
        "outputId": "1137cd0b-1eb9-40f0-83e0-d4a2ccde12d9"
      },
      "outputs": [
        {
          "name": "stdout",
          "output_type": "stream",
          "text": [
            "Error: The key 'address' does not exist in the dictionary.\n",
            "Program continues after handling the error.\n"
          ]
        }
      ],
      "source": [
        "my_dict = {\"name\": \"Alice\", \"age\": 25}\n",
        "\n",
        "try:\n",
        "  value = my_dict[\"address\"]\n",
        "except KeyError:\n",
        "  print(\"Error: The key 'address' does not exist in the dictionary.\")\n",
        "\n",
        "print(\"Program continues after handling the error.\")"
      ]
    },
    {
      "cell_type": "markdown",
      "metadata": {
        "id": "6pXR9F8B1eEb"
      },
      "source": [
        "#Q.12 Write a program that demonstrates using multiple except blocks to handle different types of exceptions?"
      ]
    },
    {
      "cell_type": "code",
      "execution_count": null,
      "metadata": {
        "colab": {
          "base_uri": "https://localhost:8080/"
        },
        "id": "37ave15c3vX9",
        "outputId": "9aab4b39-86d3-4c05-8ff9-fe3700ccb28f"
      },
      "outputs": [
        {
          "name": "stdout",
          "output_type": "stream",
          "text": [
            "Error: Division by zero occurred.\n"
          ]
        }
      ],
      "source": [
        "def handle_exceptions():\n",
        "  try:\n",
        "    x = 10 / 0\n",
        "\n",
        "    my_dict = {\"name\": \"Alice\", \"age\": 25}\n",
        "    print(my_dict[\"address\"])\n",
        "\n",
        "    with open(\"non_existent_file.txt\", 'r') as file:\n",
        "      content = file.read()\n",
        "\n",
        "  except ZeroDivisionError:\n",
        "    print(\"Error: Division by zero occurred.\")\n",
        "  except KeyError:\n",
        "    print(\"Error: The key does not exist in the dictionary.\")\n",
        "  except FileNotFoundError:\n",
        "    print(\"Error: The file was not found.\")\n",
        "  except Exception as e:\n",
        "    print(f\"An unexpected error occurred: {e}\")\n",
        "\n",
        "\n",
        "handle_exceptions()"
      ]
    },
    {
      "cell_type": "markdown",
      "metadata": {
        "id": "3Lky1sM-1eHh"
      },
      "source": [
        "#Q.13 How would you check if a file exists before attempting to read it in Python?"
      ]
    },
    {
      "cell_type": "code",
      "execution_count": null,
      "metadata": {
        "colab": {
          "base_uri": "https://localhost:8080/"
        },
        "id": "fqZB8FrV4ZY6",
        "outputId": "57df945d-efdd-431f-b25b-f302d4069a66"
      },
      "outputs": [
        {
          "name": "stdout",
          "output_type": "stream",
          "text": [
            "Hello\n",
            "World\n",
            "Python\n",
            "This is the new data that will be appended.\n",
            "Appending more data.\n",
            "\n"
          ]
        }
      ],
      "source": [
        "import os\n",
        "\n",
        "file_path = 'example.txt'\n",
        "\n",
        "if os.path.exists(file_path):\n",
        "  with open(file_path, 'r') as file:\n",
        "    content = file.read()\n",
        "    print(content)\n",
        "else:\n",
        "  print(\"The file does not exist.\")"
      ]
    },
    {
      "cell_type": "markdown",
      "metadata": {
        "id": "BLbahFi11eKe"
      },
      "source": [
        "#Q.14 Write a program that uses the logging module to log both informational and error messages."
      ]
    },
    {
      "cell_type": "code",
      "execution_count": null,
      "metadata": {
        "colab": {
          "base_uri": "https://localhost:8080/"
        },
        "id": "4p1BFw134qy1",
        "outputId": "03ac382a-1912-40b9-de30-9f38d1140407"
      },
      "outputs": [
        {
          "name": "stderr",
          "output_type": "stream",
          "text": [
            "ERROR:root:Error occurred: division by zero\n"
          ]
        }
      ],
      "source": [
        "import logging\n",
        "\n",
        "logging.basicConfig(\n",
        "  level=logging.DEBUG,\n",
        "  format='%(asctime)s - %(levelname)s - %(message)s', handlers=[logging.StreamHandler()]\n",
        ")\n",
        "\n",
        "\n",
        "logging.info(\"This is an informational message.\")\n",
        "\n",
        "try:\n",
        "  result = 10 / 0\n",
        "except ZeroDivisionError as e:\n",
        "  logging.error(f\"Error occurred: {e}\")\n"
      ]
    },
    {
      "cell_type": "markdown",
      "metadata": {
        "id": "DKMmz3jn1eNw"
      },
      "source": [
        "#Q.15 Write a Python program that prints the content of a file and handles the case when the file is empty."
      ]
    },
    {
      "cell_type": "code",
      "execution_count": null,
      "metadata": {
        "colab": {
          "base_uri": "https://localhost:8080/"
        },
        "id": "aI3M_ZRb46MH",
        "outputId": "dd30cd52-9e2d-4608-c67c-45eed8b4cf7e"
      },
      "outputs": [
        {
          "name": "stdout",
          "output_type": "stream",
          "text": [
            "File content:\n",
            "Hello\n",
            "World\n",
            "Python\n",
            "This is the new data that will be appended.\n",
            "Appending more data.\n",
            "\n"
          ]
        }
      ],
      "source": [
        "def read_file(file_path):\n",
        "  try:\n",
        "    with open(file_path, 'r') as file:\n",
        "      content = file.read()\n",
        "\n",
        "      if not content:\n",
        "        print(\"The file is empty.\")\n",
        "      else:\n",
        "        print(\"File content:\")\n",
        "        print(content)\n",
        "  except FileNotFoundError:\n",
        "    print(\"The file does not exist.\")\n",
        "  except Exception as e:\n",
        "    print(f\"An error occurred: {e}\")\n",
        "\n",
        "file_path = 'example.txt'\n",
        "\n",
        "\n",
        "read_file(file_path)"
      ]
    },
    {
      "cell_type": "markdown",
      "metadata": {
        "id": "lx7o6JhK5WU7"
      },
      "source": [
        "#Q.16 Demonstrate how to use memory profiling to check the memory usage of a small program."
      ]
    },
    {
      "cell_type": "code",
      "execution_count": null,
      "metadata": {
        "id": "SzR0_2Wp5z8-"
      },
      "outputs": [],
      "source": [
        "from memory_profiler import profile\n",
        "\n",
        "@profile\n",
        "def my_function():\n",
        "  a = [1] * (10**6)\n",
        "  b = [2] * (2 * 10**7)\n",
        "  del b\n",
        "  return a\n",
        "\n",
        "if __name__ == \"__main__\":\n",
        "    my_function()"
      ]
    },
    {
      "cell_type": "markdown",
      "metadata": {
        "id": "cNwsFa_y5WZX"
      },
      "source": [
        "#Q.17 Write a Python program to create and write a list of numbers to a file, one number per line.\n"
      ]
    },
    {
      "cell_type": "code",
      "execution_count": null,
      "metadata": {
        "colab": {
          "base_uri": "https://localhost:8080/"
        },
        "id": "v-fCCrwc5934",
        "outputId": "fff77f49-cf81-4980-f404-d3cbe9f3f7ed"
      },
      "outputs": [
        {
          "name": "stdout",
          "output_type": "stream",
          "text": [
            "Numbers have been written to 'numbers.txt'.\n"
          ]
        }
      ],
      "source": [
        "numbers = [1, 2, 3, 4, 5, 6, 7, 8, 9, 10]\n",
        "\n",
        "with open('numbers.txt', 'w') as file:\n",
        "  for number in numbers:\n",
        "    file.write(f\"{number}\\n\")\n",
        "\n",
        "print(\"Numbers have been written to 'numbers.txt'.\")"
      ]
    },
    {
      "cell_type": "markdown",
      "metadata": {
        "id": "egRepij-5Wf_"
      },
      "source": [
        "#Q.18 How would you implement a basic logging setup that logs to a file with rotation after 1MB."
      ]
    },
    {
      "cell_type": "code",
      "execution_count": null,
      "metadata": {
        "id": "obBYKU3J6uYl"
      },
      "outputs": [],
      "source": [
        "import logging\n",
        "from logging.handlers import RotatingFileHandler\n",
        "\n",
        "log_handler = RotatingFileHandler('app.log', maxBytes=1024*1024, backupCount=3)\n",
        "\n",
        "\n",
        "formatter = logging.Formatter('%(asctime)s - %(name)s - %(levelname)s - %(message)s')\n",
        "log_handler.setFormatter(formatter)\n",
        "\n",
        "\n",
        "logging.basicConfig(level=logging.DEBUG, handlers=[log_handler])\n",
        "\n",
        "logger = logging.getLogger('MyLogger')\n",
        "\n",
        "for i in range(10000):\n",
        "    logger.debug(f\"This is debug message number {i}\")\n",
        "    logger.info(f\"This is info message number {i}\")\n",
        "    logger.warning(f\"This is warning message number {i}\")\n",
        "    logger.error(f\"This is error message number {i}\")\n",
        "    logger.critical(f\"This is critical message number {i}\")\n",
        "\n",
        "print(\"Logging setup complete. Check 'app.log' for logs.\")"
      ]
    },
    {
      "cell_type": "markdown",
      "metadata": {
        "id": "qAcrvbYL5WkQ"
      },
      "source": [
        "#Q.19 Write a program that handles both IndexError and KeyError using a try-except block."
      ]
    },
    {
      "cell_type": "code",
      "execution_count": 32,
      "metadata": {
        "colab": {
          "base_uri": "https://localhost:8080/"
        },
        "id": "q2-3Xz2S64x1",
        "outputId": "cf9e1198-36f1-497c-dd90-ae31caeabdd7"
      },
      "outputs": [
        {
          "output_type": "stream",
          "name": "stdout",
          "text": [
            "IndexError occurred: list index out of range\n",
            "Program executed successfully.\n"
          ]
        }
      ],
      "source": [
        "sample_list = [10, 20, 30, 40]\n",
        "sample_dict = {'a': 1, 'b': 2, 'c': 3}\n",
        "\n",
        "try:\n",
        "  print(sample_list[5])\n",
        "  print(sample_dict['d'])\n",
        "\n",
        "except IndexError as e:\n",
        "   print(f\"IndexError occurred: {e}\")  # Handling IndexError\n",
        "\n",
        "except KeyError as e:\n",
        "  print(f\"KeyError occurred: {e}\")  # Handling KeyError\n",
        "\n",
        "print(\"Program executed successfully.\")\n"
      ]
    },
    {
      "cell_type": "markdown",
      "metadata": {
        "id": "ErZIOQw45Wvu"
      },
      "source": [
        "#Q.20 How would you open a file and read its contents using a context manager in Python."
      ]
    },
    {
      "cell_type": "code",
      "source": [
        "with open('example.txt', 'r') as file:\n",
        "  content = file.read()\n",
        "  print(content)"
      ],
      "metadata": {
        "colab": {
          "base_uri": "https://localhost:8080/"
        },
        "id": "H1Abe4h07nqq",
        "outputId": "f5ddf50b-9a17-429a-bf44-05a6be62cde1"
      },
      "execution_count": 33,
      "outputs": [
        {
          "output_type": "stream",
          "name": "stdout",
          "text": [
            "Hello\n",
            "World\n",
            "Python\n",
            "This is the new data that will be appended.\n",
            "Appending more data.\n",
            "\n"
          ]
        }
      ]
    },
    {
      "cell_type": "markdown",
      "metadata": {
        "id": "g9tmGsgU5Wzz"
      },
      "source": [
        "#Q.21 Write a Python program that reads a file and prints the number of occurrences of a specific word."
      ]
    },
    {
      "cell_type": "code",
      "source": [
        "def count_word_in_file(filename, word_to_find):\n",
        "  try:\n",
        "    with open(filename, 'r') as file:\n",
        "      word_count = 0\n",
        "      for line in file:\n",
        "        word_count += line.lower().split().count(word_to_find.lower())\n",
        "        return word_count\n",
        "\n",
        "  except FileNotFoundError:\n",
        "    print(f\"The file '{filename}' does not exist.\")\n",
        "    return 0\n",
        "\n",
        "filename = 'example.txt'\n",
        "word_to_find = 'python'\n",
        "\n",
        "count = count_word_in_file(filename, word_to_find)\n",
        "if count > 0:\n",
        "  print(f\"The word '{word_to_find}' appears {count} times in the file '{filename}'.\")\n",
        "else:\n",
        "  print(f\"The word '{word_to_find}' was not found in the file '{filename}'.\")"
      ],
      "metadata": {
        "colab": {
          "base_uri": "https://localhost:8080/"
        },
        "id": "zCOrNaq976dr",
        "outputId": "74f239e9-2a02-4735-8ab3-b29efb1b1a34"
      },
      "execution_count": 34,
      "outputs": [
        {
          "output_type": "stream",
          "name": "stdout",
          "text": [
            "The word 'python' was not found in the file 'example.txt'.\n"
          ]
        }
      ]
    },
    {
      "cell_type": "markdown",
      "metadata": {
        "id": "yObrxC_55W58"
      },
      "source": [
        "#Q.22 How can you check if a file is empty before attempting to read its contents."
      ]
    },
    {
      "cell_type": "code",
      "source": [
        "#Method 1\n",
        "import os\n",
        "\n",
        "def is_file_empty(filename):\n",
        "  return os.path.exists(filename) and os.path.getsize(filename) == 0\n",
        "\n",
        "filename = 'example.txt'\n",
        "\n",
        "if is_file_empty(filename):\n",
        "  print(f\"The file '{filename}' is empty.\")\n",
        "else:\n",
        "  with open(filename, 'r') as file:\n",
        "    content = file.read()\n",
        "    print(\"File Content:\", content)"
      ],
      "metadata": {
        "colab": {
          "base_uri": "https://localhost:8080/"
        },
        "id": "jFnGc9Xy8q1W",
        "outputId": "4a8d3933-36c6-4ba9-ecf4-8cb313209e35"
      },
      "execution_count": 35,
      "outputs": [
        {
          "output_type": "stream",
          "name": "stdout",
          "text": [
            "File Content: Hello\n",
            "World\n",
            "Python\n",
            "This is the new data that will be appended.\n",
            "Appending more data.\n",
            "\n"
          ]
        }
      ]
    },
    {
      "cell_type": "code",
      "source": [
        "#Method 2\n",
        "def check_and_read_file(filename):\n",
        "  with open(filename, 'r') as file:\n",
        "    content = file.read()\n",
        "    if not content:\n",
        "      print(f\"The file '{filename}' is empty.\")\n",
        "    else:\n",
        "      print(\"File Content:\", content)\n",
        "\n",
        "filename = 'example.txt'\n",
        "check_and_read_file(filename)"
      ],
      "metadata": {
        "colab": {
          "base_uri": "https://localhost:8080/"
        },
        "id": "fLcdVxLe9JhO",
        "outputId": "f282da0d-28f1-4e0a-9e00-6a448ba4d2f1"
      },
      "execution_count": 36,
      "outputs": [
        {
          "output_type": "stream",
          "name": "stdout",
          "text": [
            "File Content: Hello\n",
            "World\n",
            "Python\n",
            "This is the new data that will be appended.\n",
            "Appending more data.\n",
            "\n"
          ]
        }
      ]
    },
    {
      "cell_type": "markdown",
      "metadata": {
        "id": "71oST4oN5W9z"
      },
      "source": [
        "#Q.23 Write a Python program that writes to a log file when an error occurs during file handling."
      ]
    },
    {
      "cell_type": "code",
      "source": [
        "import logging\n",
        "\n",
        "logging.basicConfig(filename='file_handling.log', level=logging.ERROR, format='%(asctime)s - %(levelname)s - %(message)s')\n",
        "\n",
        "def write_to_file(filename, content):\n",
        "  try:\n",
        "    with open(filename, 'w') as file:\n",
        "      file.write(content)\n",
        "      print(f\"Content successfully written to {filename}\")\n",
        "  except Exception as e:\n",
        "      logging.error(f\"Error occurred while writing to the file: {e}\")\n",
        "      print(\"An error occurred. Please check the log file for details.\")\n",
        "\n",
        "def read_from_file(filename):\n",
        "  try:\n",
        "    with open(filename, 'r') as file:\n",
        "      content = file.read()\n",
        "      print(f\"Content of the file: \\n{content}\")\n",
        "  except Exception as e:\n",
        "    logging.error(f\"Error occurred while reading from the file: {e}\")\n",
        "    print(\"An error occurred. Please check the log file for details.\")\n",
        "\n",
        "filename = 'example.txt'\n",
        "content = \"This is a sample text.\"\n",
        "\n",
        "write_to_file(filename, content)\n",
        "\n",
        "read_from_file(filename)"
      ],
      "metadata": {
        "colab": {
          "base_uri": "https://localhost:8080/"
        },
        "id": "p46nCfXI9bec",
        "outputId": "395badde-53fd-4e99-9aa3-0b825e50e838"
      },
      "execution_count": 37,
      "outputs": [
        {
          "output_type": "stream",
          "name": "stdout",
          "text": [
            "Content successfully written to example.txt\n",
            "Content of the file: \n",
            "This is a sample text.\n"
          ]
        }
      ]
    }
  ],
  "metadata": {
    "colab": {
      "provenance": []
    },
    "kernelspec": {
      "display_name": "Python 3",
      "name": "python3"
    },
    "language_info": {
      "name": "python"
    }
  },
  "nbformat": 4,
  "nbformat_minor": 0
}