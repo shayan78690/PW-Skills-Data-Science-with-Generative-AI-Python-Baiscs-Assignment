{
  "nbformat": 4,
  "nbformat_minor": 0,
  "metadata": {
    "colab": {
      "provenance": []
    },
    "kernelspec": {
      "name": "python3",
      "display_name": "Python 3"
    },
    "language_info": {
      "name": "python"
    }
  },
  "cells": [
    {
      "cell_type": "markdown",
      "source": [
        "#Assignment : Basics of Statistics\n"
      ],
      "metadata": {
        "id": "lQbC4D0-Gxyn"
      }
    },
    {
      "cell_type": "markdown",
      "source": [
        "#Q.1  Explain the different types of data (qualitative and quantitative) and provide examples of each. Discuss nominal, ordinal, interval, and ratio scales."
      ],
      "metadata": {
        "id": "zhIY-iOLGx5S"
      }
    },
    {
      "cell_type": "markdown",
      "source": [
        "Ans:- Data can be broadly categorized into qualitative and quantitative types based on its nature and the kind of analysis it supports.\n",
        "\n"
      ],
      "metadata": {
        "id": "5fG2WUDlHTdV"
      }
    },
    {
      "cell_type": "markdown",
      "source": [
        "1. Qualitative Data (Categorical Data)\n",
        "Qualitative data represents descriptive information and cannot be measured in numbers. It is used to classify objects or individuals into groups based on qualities or attributes.\n",
        "\n",
        "Examples:\n",
        "* Colors of cars in a parking lot (e.g., red, blue, black).\n",
        "* Types of cuisine (e.g., Italian, Chinese, Indian).\n",
        "* Customer feedback (e.g., satisfied, neutral, unsatisfied).\n",
        "\n",
        "Subtypes:\n",
        "* Nominal Scale:\n",
        "   * Data with no inherent order or ranking.\n",
        "   * Examples: Gender (male, female, non-binary), eye color (blue, green, brown).\n",
        "\n",
        "* Ordinal Scale:\n",
        "   * Data with a meaningful order or ranking, but the intervals between values are not uniform.\n",
        "   * Examples:\n",
        "      * Customer satisfaction (happy, neutral, unhappy).\n",
        "      * Education level (high school, bachelor's, master's).\n"
      ],
      "metadata": {
        "id": "cTFvtfYLHxLS"
      }
    },
    {
      "cell_type": "markdown",
      "source": [
        "2. Quantitative Data (Numerical Data)\n",
        "Quantitative data represents numerical information that can be measured or counted. It supports mathematical operations.\n",
        "\n",
        "Examples:\n",
        "* Height of students (e.g., 150 cm, 165 cm, 172 cm).\n",
        "* Age of employees (e.g., 25 years, 30 years, 35 years).\n",
        "* Number of cars sold in a week (e.g., 10, 15, 20).\n",
        "\n",
        "Subtypes:\n",
        "* Interval Scale:\n",
        "    * Data with equal intervals between values but no true zero point.\n",
        "    * Examples: Temperature in Celsius or Fahrenheit (e.g., 20°C, 30°C). A temperature of 0°C does not mean \"no temperature.\"\n",
        "\n",
        "Ratio Scale:\n",
        "* Data with equal intervals and a true zero point, allowing for meaningful ratios.\n",
        "* Examples:\n",
        "    * Weight (e.g., 50 kg, 100 kg).\n",
        "    * Income (e.g., $0, $10,000, $50,000).\n",
        "    * Distance (e.g., 0 km, 10 km, 20 km).\n"
      ],
      "metadata": {
        "id": "9kWerjHpIWQ9"
      }
    },
    {
      "cell_type": "markdown",
      "source": [
        "#Q.2 What are the measures of central tendency, and when should you use each? Discuss the mean, median, and mode with examples and situations where each is appropriate."
      ],
      "metadata": {
        "id": "IFGYZrHgGx-f"
      }
    },
    {
      "cell_type": "markdown",
      "source": [
        "Ans:- Measures of Central Tendency -\n",
        "Measures of central tendency are statistical tools used to summarize a dataset by identifying its central point. The three most common measures are mean, median, and mode. Each is appropriate for different data types and situations.\n",
        "\n"
      ],
      "metadata": {
        "id": "SKbiaN2TGyFI"
      }
    },
    {
      "cell_type": "markdown",
      "source": [
        "1. Mean (Arithmetic Average)\n",
        "The mean is the sum of all data points divided by the total number of points.\n",
        "\n",
        "Formula:\n",
        "Mean = Sum of all data points / Number of data points"
      ],
      "metadata": {
        "id": "k-pEmq4eGyIq"
      }
    },
    {
      "cell_type": "code",
      "source": [
        "#Example\n",
        "import numpy as np\n",
        "data = [10, 20, 30, 40, 50]\n",
        "print(np.mean(data))"
      ],
      "metadata": {
        "colab": {
          "base_uri": "https://localhost:8080/"
        },
        "id": "YKm1RgOXJgao",
        "outputId": "720e31c7-5bbf-4a2d-a2a6-e8eb7b8e5aaa"
      },
      "execution_count": 1,
      "outputs": [
        {
          "output_type": "stream",
          "name": "stdout",
          "text": [
            "30.0\n"
          ]
        }
      ]
    },
    {
      "cell_type": "markdown",
      "source": [
        "When to Use:\n",
        "* Data is quantitative.\n",
        "* Distribution is symmetric without extreme outliers.\n",
        "\n",
        "When Not to Use:\n",
        "* Data contains outliers, as the mean is sensitive to extreme values.\n"
      ],
      "metadata": {
        "id": "4rY6pRFYJrfI"
      }
    },
    {
      "cell_type": "markdown",
      "source": [
        "2.  Median (Middle Value) is the middle value of a sorted dataset. If there is an even number of data points, it is the average of the two middle values."
      ],
      "metadata": {
        "id": "pLw_vUQBGyMX"
      }
    },
    {
      "cell_type": "code",
      "source": [
        "#Example\n",
        "import numpy as np\n",
        "data = [10, 20, 30, 40, 50]\n",
        "print(np.median(data))"
      ],
      "metadata": {
        "colab": {
          "base_uri": "https://localhost:8080/"
        },
        "id": "7ZJe-1RyJ4TP",
        "outputId": "76dd680e-587a-48c2-a230-284e1dfd2e42"
      },
      "execution_count": 2,
      "outputs": [
        {
          "output_type": "stream",
          "name": "stdout",
          "text": [
            "30.0\n"
          ]
        }
      ]
    },
    {
      "cell_type": "markdown",
      "source": [
        "When to Use:\n",
        "* Data is quantitative or ordinal.\n",
        "* Distribution is skewed or contains outliers.\n",
        "\n",
        "When Not to Use:\n",
        "* If you need a measure sensitive to every value in the dataset.\n"
      ],
      "metadata": {
        "id": "cJ4645ppJ9Dq"
      }
    },
    {
      "cell_type": "markdown",
      "source": [
        "3. Mode (Most Frequent Value) is the value that appears most frequently in the dataset. A dataset can have:\n",
        "* One mode: Unimodal.\n",
        "* Two modes: Bimodal.\n",
        "* No mode: No value repeats."
      ],
      "metadata": {
        "id": "MfwytxX-KCoT"
      }
    },
    {
      "cell_type": "code",
      "source": [
        "#Example\n",
        "import statistics as stats\n",
        "data = [2, 3, 3, 5, 7]\n",
        "print(stats.mode(data))"
      ],
      "metadata": {
        "colab": {
          "base_uri": "https://localhost:8080/"
        },
        "id": "BIhP9MusKJ3x",
        "outputId": "cc5cb077-202e-4965-cac5-b5649977561c"
      },
      "execution_count": 3,
      "outputs": [
        {
          "output_type": "stream",
          "name": "stdout",
          "text": [
            "3\n"
          ]
        }
      ]
    },
    {
      "cell_type": "markdown",
      "source": [
        "When to Use:\n",
        "* Data is qualitative or quantitative.\n",
        "* Useful for identifying the most common category in nominal or ordinal data.\n",
        "\n",
        "When Not to Use:\n",
        "* Data has no repeated values or all values occur equally."
      ],
      "metadata": {
        "id": "epeuURDnKcMA"
      }
    },
    {
      "cell_type": "markdown",
      "source": [],
      "metadata": {
        "id": "7AH76KR4Khcw"
      }
    },
    {
      "cell_type": "markdown",
      "source": [
        "#Q.3  Explain the concept of dispersion. How do variance and standard deviation measure the spread of data?"
      ],
      "metadata": {
        "id": "44W4bLGKKhuM"
      }
    },
    {
      "cell_type": "markdown",
      "source": [
        "Ans:- Dispersion refers to the extent to which data points in a dataset are spread out or scattered. It measures the variability or diversity within a dataset, indicating how much the data deviates from its central tendency (mean, median, or mode).\n",
        "\n",
        "Importance of Dispersion:\n",
        "* Understanding Variability: Helps assess the consistency or variability of data.\n",
        "* Comparing Datasets: Identifies which dataset is more dispersed.\n",
        "* Risk Assessment: Useful in fields like finance to measure risk.\n"
      ],
      "metadata": {
        "id": "TRBO5CaOKqYw"
      }
    },
    {
      "cell_type": "markdown",
      "source": [
        "Variance and Standard Deviation: Measures of Dispersion :-\n",
        "Both variance and standard deviation quantify the spread of data by considering the distances of data points from the mean."
      ],
      "metadata": {
        "id": "uA1MK1cnKz4S"
      }
    },
    {
      "cell_type": "markdown",
      "source": [
        "1. Variance\n",
        "Variance is the average of the squared differences between each data point and the mean. It gives a measure of how far each value in the dataset is from the mean.\n",
        "\n",
        "2. Standard Deviation\n",
        "Standard deviation is the square root of the variance. It provides a measure of dispersion in the same units as the original data, making it easier to interpret.\n"
      ],
      "metadata": {
        "id": "EhgyrK5lK9dj"
      }
    },
    {
      "cell_type": "markdown",
      "source": [
        "How Variance and Standard Deviation Measure Spread\n",
        "1. Small Values: Small variance or standard deviation indicates data points are close to the mean, suggesting low variability.\n",
        "\n",
        "2. Large Values: Large variance or standard deviation indicates data points are spread out from the mean, suggesting high variability.\n",
        "\n",
        "Visualization:\n",
        "* A narrow bell curve (small standard deviation) indicates data is tightly clustered around the mean.\n",
        "* A wide bell curve (large standard deviation) indicates data is more spread out.\n"
      ],
      "metadata": {
        "id": "XZTVXGPsLKHN"
      }
    },
    {
      "cell_type": "code",
      "source": [
        "#Example\n",
        "import statistics as stats\n",
        "\n",
        "\n",
        "data = [10, 12, 23, 23, 16, 23, 21, 16]\n",
        "\n",
        "\n",
        "variance = stats.variance(data)\n",
        "\n",
        "std_dev = stats.stdev(data)\n",
        "\n",
        "print(f\"Variance: {variance}, Standard Deviation: {std_dev}\")\n"
      ],
      "metadata": {
        "colab": {
          "base_uri": "https://localhost:8080/"
        },
        "id": "AFqej9fFLHUZ",
        "outputId": "9712c584-e879-4830-bf19-b23f034b696e"
      },
      "execution_count": 4,
      "outputs": [
        {
          "output_type": "stream",
          "name": "stdout",
          "text": [
            "Variance: 27.428571428571427, Standard Deviation: 5.237229365663817\n"
          ]
        }
      ]
    },
    {
      "cell_type": "markdown",
      "source": [
        "#Q.4 What is a box plot, and what can it tell you about the distribution of data?\n",
        "\n",
        "\n"
      ],
      "metadata": {
        "id": "BhwvcP1FLz3y"
      }
    },
    {
      "cell_type": "markdown",
      "source": [
        "Ans:-\n",
        "Box Plot: A box plot (or box-and-whisker plot) is a graphical representation of a dataset's distribution. It summarizes the data using five key statistics:\n",
        "1. Minimum: The smallest value (excluding outliers).\n",
        "2. Lower Quartile (Q1): The value below which 25% of data falls.\n",
        "3. Median (Q2): The middle value (50% of data falls below it).\n",
        "4. Upper Quartile (Q3): The value below which 75% of data falls.\n",
        "5. Maximum: The largest value (excluding outliers).\n"
      ],
      "metadata": {
        "id": "yhVP1gs9LrFh"
      }
    },
    {
      "cell_type": "markdown",
      "source": [
        "What It Tells You\n",
        "1. Spread of Data: How widely the data is distributed.\n",
        "2. Center of Data: The median shows the central value.\n",
        "3. Skewness: Whether the data is symmetric or skewed.\n",
        "4. Outliers: Points that lie far from the rest of the data.\n"
      ],
      "metadata": {
        "id": "8J1lJ5fkL3Y9"
      }
    },
    {
      "cell_type": "markdown",
      "source": [
        "Key Features\n",
        "1. Box: Contains the interquartile range (IQR = Q3 - Q1) where 50% of data lies.\n",
        "2. Whiskers: Extend to the minimum and maximum values within 1.5 × IQR.\n",
        "3. Dots/Stars: Represent outliers.\n"
      ],
      "metadata": {
        "id": "8kBkztgxL-gD"
      }
    },
    {
      "cell_type": "markdown",
      "source": [
        "Example\n",
        "If you have exam scores, a box plot can show:\n",
        "\n",
        "1. Median score (most typical score).\n",
        "2. How spread-out the scores are.\n",
        "3. If some students scored unusually high or low (outliers)."
      ],
      "metadata": {
        "id": "4eTYR3xqMDYd"
      }
    },
    {
      "cell_type": "markdown",
      "source": [
        "#Q.5 Discuss the role of random sampling in making inferences about populations."
      ],
      "metadata": {
        "id": "KO9IeEYlMRMu"
      }
    },
    {
      "cell_type": "markdown",
      "source": [
        "Ans:- Random sampling ensures that every individual in a population has an equal chance of being selected. This reduces bias and makes the sample representative of the population, allowing accurate inferences to be drawn. It enables generalizations, supports statistical tests, and improves reliability in conclusions."
      ],
      "metadata": {
        "id": "gdEU007AMXta"
      }
    },
    {
      "cell_type": "markdown",
      "source": [
        "#Q.6 . Explain the concept of skewness and its types. How does skewness affect the interpretation of data?\n"
      ],
      "metadata": {
        "id": "fGcuwxX8MXwY"
      }
    },
    {
      "cell_type": "markdown",
      "source": [
        "Ans:- Skewness measures the asymmetry of a data distribution.\n",
        "\n",
        "Types of Skewness:\n",
        "1. Positive Skew (Right-Skewed): Tail extends to the right; mean > median.\n",
        "2. Negative Skew (Left-Skewed): Tail extends to the left; mean < median.\n",
        "3. Zero Skew (Symmetric): Equal distribution; mean = median.\n",
        "\n",
        "Effect on Interpretation:\n",
        "1. Positive Skew: Data has higher extreme values; overestimates the average.\n",
        "2. Negative Skew: Data has lower extreme values; underestimates the average.\n",
        "3. Zero Skew: Data is evenly distributed around the center."
      ],
      "metadata": {
        "id": "LmyigmULMXzZ"
      }
    },
    {
      "cell_type": "code",
      "source": [
        "import numpy as np\n",
        "from scipy.stats import skew\n",
        "\n",
        "# Datasets\n",
        "data_symmetric = [10, 20, 30, 40, 50]  # Symmetric\n",
        "data_positive = [10, 20, 30, 40, 100]  # Positive skew\n",
        "data_negative = [10, 5, 3, 2, 1]       # Negative skew\n",
        "\n",
        "# Calculating skewness\n",
        "sym_skew = skew(data_symmetric)\n",
        "pos_skew = skew(data_positive)\n",
        "neg_skew = skew(data_negative)\n",
        "\n",
        "print(f\"Symmetric Skewness: {sym_skew}\")\n",
        "print(f\"Positive Skewness: {pos_skew}\")\n",
        "print(f\"Negative Skewness: {neg_skew}\")"
      ],
      "metadata": {
        "colab": {
          "base_uri": "https://localhost:8080/"
        },
        "id": "Id-WPZfmM8xe",
        "outputId": "83942c88-6e82-488e-9b71-8629f47d22af"
      },
      "execution_count": 5,
      "outputs": [
        {
          "output_type": "stream",
          "name": "stdout",
          "text": [
            "Symmetric Skewness: 0.0\n",
            "Positive Skewness: 1.1384199576606167\n",
            "Negative Skewness: 0.9293262751691939\n"
          ]
        }
      ]
    },
    {
      "cell_type": "markdown",
      "source": [
        "#Q.7  What is the interquartile range (IQR), and how is it used to detect outliers?"
      ],
      "metadata": {
        "id": "OZ5u5Qn8MX4n"
      }
    },
    {
      "cell_type": "markdown",
      "source": [
        "Ans:- The Interquartile Range (IQR) measures the middle 50% of a dataset and is calculated as:\n",
        "IQR = Q3 − Q1\n",
        "\n",
        "\n",
        "Where:\n",
        "* Q1: Lower quartile (25th percentile).\n",
        "* Q3: Upper quartile (75th percentile).\n",
        "\n",
        "Outlier Detection:\n",
        "* Lower Bound: 𝑄1 − 1.5 × IQR\n",
        "* Upper Bound: 𝑄3 + 1.5 × IQR\n",
        "* Any value outside these bounds is considered an outlier."
      ],
      "metadata": {
        "id": "E3OFIvGiMX7o"
      }
    },
    {
      "cell_type": "code",
      "source": [
        "#Example\n",
        "import numpy as np\n",
        "\n",
        "# Data\n",
        "data = [10, 12, 15, 18, 22, 24, 30, 100]\n",
        "\n",
        "# Quartiles\n",
        "Q1 = np.percentile(data, 25)\n",
        "Q3 = np.percentile(data, 75)\n",
        "IQR = Q3 - Q1\n",
        "\n",
        "# Outlier bounds\n",
        "lower_bound = Q1 - 1.5 * IQR\n",
        "upper_bound = Q3 + 1.5 * IQR\n",
        "\n",
        "print(f\"IQR: {IQR}, Lower Bound: {lower_bound}, Upper Bound: {upper_bound}\")"
      ],
      "metadata": {
        "colab": {
          "base_uri": "https://localhost:8080/"
        },
        "id": "3sBHQUfCNwdL",
        "outputId": "50df655f-5d1b-4ee0-fe15-b6c73a52a7b7"
      },
      "execution_count": 6,
      "outputs": [
        {
          "output_type": "stream",
          "name": "stdout",
          "text": [
            "IQR: 11.25, Lower Bound: -2.625, Upper Bound: 42.375\n"
          ]
        }
      ]
    },
    {
      "cell_type": "markdown",
      "source": [
        "#Q.8  Discuss the conditions under which the binomial distribution is used."
      ],
      "metadata": {
        "id": "ksimOncaMX-X"
      }
    },
    {
      "cell_type": "markdown",
      "source": [
        "Ans:- The binomial distribution is used under these conditions:\n",
        "1. Fixed number of trials (n): The experiment is repeated a set number of times.\n",
        "2. Two possible outcomes: Each trial results in a success or failure (binary outcome).\n",
        "3. Constant probability (p): The probability of success remains the same for each trial.\n",
        "4. Independent trials: The outcome of one trial does not affect the others.\n",
        "\n",
        "Example:\n",
        " * Flipping a coin 10 times and counting the number of heads. Each flip is independent, with a 50% chance of heads.\n",
        "\n",
        "\n",
        "\n",
        "\n",
        "\n",
        "\n"
      ],
      "metadata": {
        "id": "z3B-WFvfMYBD"
      }
    },
    {
      "cell_type": "markdown",
      "source": [
        "#Q.9  Explain the properties of the normal distribution and the empirical rule (68-95-99.7 rule)."
      ],
      "metadata": {
        "id": "E9ZjMecbMYDw"
      }
    },
    {
      "cell_type": "markdown",
      "source": [
        "Ans:- Properties of Normal Distribution:\n",
        "1. Symmetric: The distribution is symmetric around the mean.\n",
        "2. Bell-shaped curve: The data clusters around the mean, with fewer values as you move away.\n",
        "3. Defined by Mean and Standard Deviation: The mean (𝜇) and standard deviation (σ) determine its shape and spread.\n",
        "4. 68-95-99.7 Rule:\n",
        " * 68% of the data falls within 1 standard deviation of the mean.\n",
        " * 95% falls within 2 standard deviations.\n",
        " * 99.7% falls within 3 standard deviations.\n",
        "\n",
        "\n",
        " Empirical Rule (68-95-99.7 Rule):\n",
        "  * 68%: Data lies within μ ± 1σ.\n",
        "  * 95%: Data lies within μ ± 2σ.\n",
        "  * 99.7%: Data lies within μ ± 3σ."
      ],
      "metadata": {
        "id": "7l7J-w9QMYIH"
      }
    },
    {
      "cell_type": "markdown",
      "source": [
        "#Q.10  Provide a real-life example of a Poisson process and calculate the probability for a specific event."
      ],
      "metadata": {
        "id": "QI6RkUTuMYLR"
      }
    },
    {
      "cell_type": "markdown",
      "source": [
        "Ans:- Real-life Example of a Poisson Process: A common example of a Poisson process is the number of customer arrivals at a store in an hour. If customers arrive randomly but at a constant average rate, we can model the number of arrivals using a Poisson distribution.\n",
        "\n",
        "Poisson Distribution Formula:\n",
        "The probability of exactly\n",
        "𝑘\n",
        "k events happening in a fixed interval is given by:\n",
        "P(X = k) = (λ^k ⋅ e^−λ)\n",
        "\n",
        "\n",
        "Where:\n",
        "\n",
        "1. λ is the average number of events per interval.\n",
        "2. k is the number of events you want to calculate the probability for.\n",
        "3. e is Euler's number (approx. 2.71828).\n",
        "​\n"
      ],
      "metadata": {
        "id": "2B8SjKcEMYNv"
      }
    },
    {
      "cell_type": "markdown",
      "source": [
        "#Q.11  Explain what a random variable is and differentiate between discrete and continuous random variables."
      ],
      "metadata": {
        "id": "5tejhbyUMYQn"
      }
    },
    {
      "cell_type": "markdown",
      "source": [
        "Ans:- Random Variable: A random variable is a numerical outcome of a random process or experiment. It assigns a number to each possible outcome in a sample space.\n",
        "\n",
        "Types of Random Variables:\n",
        "1. Discrete Random Variable: Takes specific, countable values (often integers).\n",
        "Example: The number of cars passing a checkpoint in an hour (0, 1, 2, 3, etc.).\n",
        "\n",
        "2. Continuous Random Variable: Takes any value within a range or interval.\n",
        "Example: The height of a person (can be any real number within a range, like 5.5, 5.55, 5.555 feet, etc.)."
      ],
      "metadata": {
        "id": "zdEK_hMjMYTV"
      }
    },
    {
      "cell_type": "markdown",
      "source": [
        "#Q.12 Provide an example dataset, calculate both covariance and correlation, and interpret the results."
      ],
      "metadata": {
        "id": "CJBDbks_MYVy"
      }
    },
    {
      "cell_type": "code",
      "source": [
        "import numpy as np\n",
        "\n",
        "# Example data\n",
        "X = np.array([1, 2, 3, 4, 5])  # Hours studied\n",
        "Y = np.array([50, 55, 60, 65, 70])  # Marks scored\n",
        "\n",
        "# Calculate means\n",
        "mean_X = np.mean(X)\n",
        "mean_Y = np.mean(Y)\n",
        "\n",
        "# Covariance\n",
        "cov_XY = np.mean((X - mean_X) * (Y - mean_Y))\n",
        "print(f\"Covariance: {cov_XY}\")\n",
        "\n",
        "# Standard deviations\n",
        "std_X = np.std(X)\n",
        "std_Y = np.std(Y)\n",
        "\n",
        "# Correlation\n",
        "correlation = cov_XY / (std_X * std_Y)\n",
        "print(f\"Correlation: {correlation}\")\n"
      ],
      "metadata": {
        "colab": {
          "base_uri": "https://localhost:8080/"
        },
        "id": "h_EEwxjMP-z-",
        "outputId": "c4834ac5-bbe1-4f1c-ece1-7a0cde3d83e7"
      },
      "execution_count": 7,
      "outputs": [
        {
          "output_type": "stream",
          "name": "stdout",
          "text": [
            "Covariance: 10.0\n",
            "Correlation: 0.9999999999999998\n"
          ]
        }
      ]
    }
  ]
}