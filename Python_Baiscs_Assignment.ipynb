{
  "nbformat": 4,
  "nbformat_minor": 0,
  "metadata": {
    "colab": {
      "provenance": []
    },
    "kernelspec": {
      "name": "python3",
      "display_name": "Python 3"
    },
    "language_info": {
      "name": "python"
    }
  },
  "cells": [
    {
      "cell_type": "markdown",
      "source": [
        "# Q.1 Explain the key features of Python that make it a popular choice for programming ?"
      ],
      "metadata": {
        "id": "ryQOn6wkrQ0j"
      }
    },
    {
      "cell_type": "markdown",
      "source": [
        "The Key Features of Python are :-\n",
        "\n",
        "1. Python is being Widely Used in Industry.\n",
        "2. It is an Object Oriented Programming Language.\n",
        "3. It is Used in Data Industry.\n",
        "4. It is simple and easy to learn.\n",
        "5. A lot of libraries are there in Python which allows you to use some inbuilt 6. functions and modules, prevents writing code from scratch.\n",
        "7. It is used in Image Processing, Databases, Automation etc.\n",
        "8. It is a versatile language means it is used in everywhere like Web Development, Machine Learning, Data Analysis, Artificial Intelligence, etc.\n",
        "9. Python has a huge active community where collaborators are actively collaborating.\n"
      ],
      "metadata": {
        "id": "ZKY_vy1vrevu"
      }
    },
    {
      "cell_type": "code",
      "source": [
        "#First program\n",
        "print(\"Hello World!\")"
      ],
      "metadata": {
        "colab": {
          "base_uri": "https://localhost:8080/"
        },
        "id": "pVatJRhsr1Mf",
        "outputId": "fcc9145e-3088-49fd-d8f8-500c52a8ad71"
      },
      "execution_count": 1,
      "outputs": [
        {
          "output_type": "stream",
          "name": "stdout",
          "text": [
            "Hello World!\n"
          ]
        }
      ]
    },
    {
      "cell_type": "markdown",
      "source": [
        "#Q.2 Describe the role of predefined keywords in Python and provide examples of how they are used in a program ?"
      ],
      "metadata": {
        "id": "ei7pzTGSsAEG"
      }
    },
    {
      "cell_type": "markdown",
      "source": [
        " Predefined Keywords are those words which has a special meaning and has some specific purpose in Python Programming.\n",
        "There are total 35 keywords in Python.\n",
        "Some of them are :-\n",
        "1. print - It is a keyword which is used to display a message on the output screen.\n"
      ],
      "metadata": {
        "id": "6CBHi76XsJVC"
      }
    },
    {
      "cell_type": "code",
      "source": [
        "# Examples\n",
        "#  1. print keyword\n",
        "print(\"Hello World\")"
      ],
      "metadata": {
        "colab": {
          "base_uri": "https://localhost:8080/"
        },
        "id": "NkV6TyHMsqGv",
        "outputId": "0845aa6f-582b-413a-f20c-9134137c22ea"
      },
      "execution_count": 11,
      "outputs": [
        {
          "output_type": "stream",
          "name": "stdout",
          "text": [
            "Hello World\n"
          ]
        }
      ]
    },
    {
      "cell_type": "markdown",
      "source": [
        "\n",
        "2. and - It is a logical operator which is used for logical operations.\n"
      ],
      "metadata": {
        "id": "W7WLVZxI6FeD"
      }
    },
    {
      "cell_type": "code",
      "source": [
        "# 2. and keyword\n",
        "N = int(input(\"Enter any number\"))\n",
        "if N % 2 == 0 and N > 0:\n",
        "    print(\"Even\")"
      ],
      "metadata": {
        "colab": {
          "base_uri": "https://localhost:8080/"
        },
        "id": "yP-l-PDfuige",
        "outputId": "c01ad55c-468a-4648-8ae6-a72da9740591"
      },
      "execution_count": 13,
      "outputs": [
        {
          "output_type": "stream",
          "name": "stdout",
          "text": [
            "Enter any number2\n",
            "Even\n"
          ]
        }
      ]
    },
    {
      "cell_type": "markdown",
      "source": [
        "\n",
        "3. or - It is also a logical operator used for logical operation.\n"
      ],
      "metadata": {
        "id": "2OUyMGaJ6JS7"
      }
    },
    {
      "cell_type": "code",
      "source": [
        "# 3. or keyword\n",
        "N = int(input(\"Enter any number\"))\n",
        "if N > 0 or N <= 5:\n",
        "   print(\"Number lies between 1 and 5\")"
      ],
      "metadata": {
        "colab": {
          "base_uri": "https://localhost:8080/"
        },
        "id": "GN5biqrzuis2",
        "outputId": "87864da9-1885-4bea-e47b-4f342e7af635"
      },
      "execution_count": 14,
      "outputs": [
        {
          "output_type": "stream",
          "name": "stdout",
          "text": [
            "Enter any number4\n",
            "Number lies between 1 and 5\n"
          ]
        }
      ]
    },
    {
      "cell_type": "markdown",
      "source": [
        "\n",
        "4. continue - This keyword is used to skip any number.\n",
        "\n"
      ],
      "metadata": {
        "id": "8mmYF2SG6MPa"
      }
    },
    {
      "cell_type": "code",
      "source": [
        "# 4. continue keyword\n",
        "N = 5\n",
        "i = 1\n",
        "while i <= 5:\n",
        "  i = i + 1\n",
        "  if i == 3:\n",
        "    continue\n",
        "  print(i)"
      ],
      "metadata": {
        "colab": {
          "base_uri": "https://localhost:8080/"
        },
        "id": "qTRtgfciui19",
        "outputId": "1d988c11-244e-4574-8792-14a00295001b"
      },
      "execution_count": 15,
      "outputs": [
        {
          "output_type": "stream",
          "name": "stdout",
          "text": [
            "2\n",
            "4\n",
            "5\n",
            "6\n"
          ]
        }
      ]
    },
    {
      "cell_type": "markdown",
      "source": [
        "5. break - This keyword is used to exit from the statement."
      ],
      "metadata": {
        "id": "Q1MFvpHA6OaF"
      }
    },
    {
      "cell_type": "code",
      "source": [
        "# 5. break keyword\n",
        "N = 5\n",
        "i = 1\n",
        "while i <= 5:\n",
        "  if i == 3:\n",
        "    break\n",
        "  print(i)\n",
        "  i = i + 1"
      ],
      "metadata": {
        "colab": {
          "base_uri": "https://localhost:8080/"
        },
        "id": "-fKG1U2nujBG",
        "outputId": "b3b280f2-cef7-4a2b-8c99-d769c2da9a15"
      },
      "execution_count": 16,
      "outputs": [
        {
          "output_type": "stream",
          "name": "stdout",
          "text": [
            "1\n",
            "2\n"
          ]
        }
      ]
    },
    {
      "cell_type": "markdown",
      "source": [
        "There are more keywords in Python. Above are some of the examples from them.\n"
      ],
      "metadata": {
        "id": "ofqKNNpPvF8E"
      }
    },
    {
      "cell_type": "markdown",
      "source": [
        "#Q.3 Compare and contrast mutable and immutable objects in Python with examples ?\n"
      ],
      "metadata": {
        "id": "A5uUCmcQvIg7"
      }
    },
    {
      "cell_type": "markdown",
      "source": [
        " Mutable Objects :- Mutable objects are those objects whose value can be changed or modified after they are created.\n",
        "Example - List\n"
      ],
      "metadata": {
        "id": "9r-_5QiZvOn9"
      }
    },
    {
      "cell_type": "code",
      "source": [
        "list_c = [1, 2, 3, 4, 5, \"Shayan\"]\n",
        "list_c[0] = 10\n",
        "list_c[4] = \"pwskills\"\n",
        "print(list_c)\n"
      ],
      "metadata": {
        "colab": {
          "base_uri": "https://localhost:8080/"
        },
        "id": "wPZMlnoUvTKc",
        "outputId": "219032c7-b1e6-44e4-fdef-6eab984d3ca9"
      },
      "execution_count": 17,
      "outputs": [
        {
          "output_type": "stream",
          "name": "stdout",
          "text": [
            "[10, 2, 3, 4, 'pwskills', 'Shayan']\n"
          ]
        }
      ]
    },
    {
      "cell_type": "markdown",
      "source": [
        "It means we can change the value in mutable objects.\n"
      ],
      "metadata": {
        "id": "lT3zJq-9whyW"
      }
    },
    {
      "cell_type": "markdown",
      "source": [
        "Immutable Objects :- Immutable Objects are those objects whose value cannot be changed or modified after creation.\n",
        "Example - String\n",
        "\n"
      ],
      "metadata": {
        "id": "shJgQIB6wNLV"
      }
    },
    {
      "cell_type": "code",
      "source": [
        "a = \"Shayan\"\n",
        "a[0] = \"A\" # this will give an error"
      ],
      "metadata": {
        "colab": {
          "base_uri": "https://localhost:8080/",
          "height": 158
        },
        "id": "fz2xrwJmwRgE",
        "outputId": "98cc9af3-dbab-4b1d-857d-7b63fc8dcc89"
      },
      "execution_count": 18,
      "outputs": [
        {
          "output_type": "error",
          "ename": "TypeError",
          "evalue": "'str' object does not support item assignment",
          "traceback": [
            "\u001b[0;31m---------------------------------------------------------------------------\u001b[0m",
            "\u001b[0;31mTypeError\u001b[0m                                 Traceback (most recent call last)",
            "\u001b[0;32m<ipython-input-18-28e188b40041>\u001b[0m in \u001b[0;36m<cell line: 2>\u001b[0;34m()\u001b[0m\n\u001b[1;32m      1\u001b[0m \u001b[0ma\u001b[0m \u001b[0;34m=\u001b[0m \u001b[0;34m\"Shayan\"\u001b[0m\u001b[0;34m\u001b[0m\u001b[0;34m\u001b[0m\u001b[0m\n\u001b[0;32m----> 2\u001b[0;31m \u001b[0ma\u001b[0m\u001b[0;34m[\u001b[0m\u001b[0;36m0\u001b[0m\u001b[0;34m]\u001b[0m \u001b[0;34m=\u001b[0m \u001b[0;34m\"A\"\u001b[0m \u001b[0;31m# this will give an error\u001b[0m\u001b[0;34m\u001b[0m\u001b[0;34m\u001b[0m\u001b[0m\n\u001b[0m",
            "\u001b[0;31mTypeError\u001b[0m: 'str' object does not support item assignment"
          ]
        }
      ]
    },
    {
      "cell_type": "markdown",
      "source": [
        "We can not change the value in immutable objects\n",
        "\n"
      ],
      "metadata": {
        "id": "4aoRB5eQwm15"
      }
    },
    {
      "cell_type": "markdown",
      "source": [
        "#Q.4 Discuss the different types of operators in Python and provide examples of how they are used ?\n"
      ],
      "metadata": {
        "id": "SOMq1C47wqQh"
      }
    },
    {
      "cell_type": "markdown",
      "source": [
        "Operators :- Operators are used to perform operations on values or variable.\n",
        "\n",
        "Types of Operator :-\n",
        "\n",
        "1. Arithmetic Operator - It is used to perform arithmetic operations between operands. Arithmetic Operators are -  +, -, *, /, %, **\n",
        "\n"
      ],
      "metadata": {
        "id": "n5ShghW0wyOJ"
      }
    },
    {
      "cell_type": "code",
      "source": [
        "#Example\n",
        "\n",
        "# 1. Arithmetic Operators\n",
        "a = 5\n",
        "b = 3\n",
        "print(a + b) # Addition\n",
        "print(a - b) # Subtraction\n",
        "print(a * b) # Multiplication\n",
        "print(a / b) # Division\n",
        "print(a // b) # Floor Division\n",
        "print(a % b) # Modulus\n",
        "print(a ** b) # Exponential"
      ],
      "metadata": {
        "colab": {
          "base_uri": "https://localhost:8080/"
        },
        "id": "0RXgYtNyxAfK",
        "outputId": "08063984-8239-4544-8ce0-3aedbe3e083c"
      },
      "execution_count": 21,
      "outputs": [
        {
          "output_type": "stream",
          "name": "stdout",
          "text": [
            "8\n",
            "2\n",
            "15\n",
            "1.6666666666666667\n",
            "1\n",
            "2\n"
          ]
        }
      ]
    },
    {
      "cell_type": "markdown",
      "source": [
        "2. Comparison Operator - It is used to compare the values of operands. 3. Comparison Operators are ==, !=, <, >, <=, >=\n",
        "\n"
      ],
      "metadata": {
        "id": "caRiabYB1TgA"
      }
    },
    {
      "cell_type": "code",
      "source": [
        "# 2. Comaparison Operators\n",
        "\n",
        "a = 2\n",
        "b = 3\n",
        "print(a == b) # Equal to\n",
        "print(a != b) # Not Equals\n",
        "print(a > b) # Greater than\n",
        "print(a >= b) # Greater than equal to\n",
        "print(a < b) # Less than\n",
        "print(a <= b) # Less than equal to"
      ],
      "metadata": {
        "colab": {
          "base_uri": "https://localhost:8080/"
        },
        "id": "Z-1Ve2zlxk8j",
        "outputId": "3ab48310-b0ce-4dac-e8ae-8f8bbda870ba"
      },
      "execution_count": 22,
      "outputs": [
        {
          "output_type": "stream",
          "name": "stdout",
          "text": [
            "False\n",
            "True\n",
            "False\n",
            "False\n",
            "True\n",
            "True\n"
          ]
        }
      ]
    },
    {
      "cell_type": "markdown",
      "source": [
        "3. Logical Operator - These are used to perform logical operations. It is used to connect two or more expressions and it gives result mostly in True or False. Logical Operator are - and, or, not\n",
        "\n",
        "\n"
      ],
      "metadata": {
        "id": "nU8Glo2D1Xvy"
      }
    },
    {
      "cell_type": "code",
      "source": [
        "# 3. Logical Operators\n",
        "\n",
        "# Logical and\n",
        "print(True and True)\n",
        "print(True and False)\n",
        "print(False and True)\n",
        "print(False and False)\n",
        "\n",
        "# Logical or\n",
        "print(True or True)\n",
        "print(True or False)\n",
        "print(False or True)\n",
        "print(False or False)\n",
        "\n",
        "# Logical not\n",
        "print(not True)\n",
        "print(not False)"
      ],
      "metadata": {
        "colab": {
          "base_uri": "https://localhost:8080/"
        },
        "id": "t_aYjhL3xlbq",
        "outputId": "4ff3954f-3873-4b0f-d45a-f2a109e31537"
      },
      "execution_count": 24,
      "outputs": [
        {
          "output_type": "stream",
          "name": "stdout",
          "text": [
            "True\n",
            "False\n",
            "False\n",
            "False\n",
            "True\n",
            "True\n",
            "True\n",
            "False\n",
            "False\n",
            "True\n"
          ]
        }
      ]
    },
    {
      "cell_type": "markdown",
      "source": [
        "4. Bitwise Operator - Bitwise operator is used to perform operation on binary numbers. Bitwise operators are - &, |, ~, ^, <<, >>\n",
        "\n"
      ],
      "metadata": {
        "id": "8QQhY7Sy1ahx"
      }
    },
    {
      "cell_type": "code",
      "source": [
        "# 4. Bitwise Operators\n",
        "\n",
        "print(10 & 10) # Bitwise and\n",
        "\n",
        "print(3 | 5) # Bitwise or\n",
        "\n",
        "print(~6) # Bitwise not\n",
        "\n",
        "print(5 ^ 3) # Bitwise xor\n",
        "\n",
        "print(35 << 3) # Left Shift\n",
        "\n",
        "print(280 >> 3) # Rigth Shift\n",
        "\n"
      ],
      "metadata": {
        "id": "rv1zeLbRzX8Q"
      },
      "execution_count": null,
      "outputs": []
    },
    {
      "cell_type": "markdown",
      "source": [
        "5. Assignment Operator - These operators are used to assign value to operands. Assignment operators are - =, +=, -=, *=, /=, %=\n",
        "\n"
      ],
      "metadata": {
        "id": "89xlnz0g1eKy"
      }
    },
    {
      "cell_type": "code",
      "source": [
        "# 5. Assignment Operators\n",
        "\n",
        "a = 5 # Assignment\n",
        "a += 5 # Addition Assignment\n",
        "a -= 2 # Subtraction Assignment\n",
        "a *= 5 # Multiplication Assignment\n",
        "a /= 2 # Division Assignment\n",
        "print(a)"
      ],
      "metadata": {
        "colab": {
          "base_uri": "https://localhost:8080/"
        },
        "id": "OQi3AiuRxllh",
        "outputId": "e45321d9-8f96-4190-a801-537c99eb3a01"
      },
      "execution_count": 25,
      "outputs": [
        {
          "output_type": "stream",
          "name": "stdout",
          "text": [
            "20.0\n"
          ]
        }
      ]
    },
    {
      "cell_type": "markdown",
      "source": [
        "6. Membership Operator - Membership Operators are used to check whether a character, word, number is present in a sequence or not. Membership operators are - in, not in\n"
      ],
      "metadata": {
        "id": "5IpaXgUo1gn7"
      }
    },
    {
      "cell_type": "code",
      "source": [
        "# 6. Membership Operators\n",
        "a = \"pwskills\"\n",
        "print(\"p\" in a)\n",
        "print(\"o\" not in a)"
      ],
      "metadata": {
        "colab": {
          "base_uri": "https://localhost:8080/"
        },
        "id": "1lzlijhAxlto",
        "outputId": "ac75d67b-d53a-48ac-f8a1-3ce18c0b9d79"
      },
      "execution_count": 27,
      "outputs": [
        {
          "output_type": "stream",
          "name": "stdout",
          "text": [
            "True\n",
            "True\n"
          ]
        }
      ]
    },
    {
      "cell_type": "markdown",
      "source": [
        "\n",
        "7. Identity Operator - These are used to compare the location of two objects. Identity Operators are - is, is not"
      ],
      "metadata": {
        "id": "qmD9vsfT1ryj"
      }
    },
    {
      "cell_type": "code",
      "source": [
        "# 7. Identity Operators\n",
        "\n",
        "a = 2\n",
        "b = 3\n",
        "print(a is b)\n",
        "\n",
        "c = 4\n",
        "d = c\n",
        "print(a is not b)"
      ],
      "metadata": {
        "colab": {
          "base_uri": "https://localhost:8080/"
        },
        "id": "TfXraS4txl1p",
        "outputId": "32725856-e3cb-4e38-d5ce-6f82baef58c3"
      },
      "execution_count": 28,
      "outputs": [
        {
          "output_type": "stream",
          "name": "stdout",
          "text": [
            "False\n",
            "True\n"
          ]
        }
      ]
    },
    {
      "cell_type": "markdown",
      "source": [
        "#Q.5 Explain the concept of type casting in Python with examples ?\n"
      ],
      "metadata": {
        "id": "yFysD9gN2gSc"
      }
    },
    {
      "cell_type": "markdown",
      "source": [
        "Typecasting is a process of changing the data type of a value or object. This is necessary because while execution happens using operators, there might be some mismatching of data types.\n",
        "\n",
        "Typecasting are of two types :-\n",
        "\n",
        "1. Explicit - This is done by user.\n"
      ],
      "metadata": {
        "id": "FSw6OECd2mZU"
      }
    },
    {
      "cell_type": "code",
      "source": [
        "a = \"2\"\n",
        "b = 3\n",
        "print(int(a)+b) # Explicit Typecasting\n"
      ],
      "metadata": {
        "id": "W1peiteI224k"
      },
      "execution_count": null,
      "outputs": []
    },
    {
      "cell_type": "code",
      "source": [
        "#string to integer\n",
        "a = \"2\"\n",
        "print(type(a))\n",
        "print(type(int(a)))"
      ],
      "metadata": {
        "id": "dPtT0uXL3S6K"
      },
      "execution_count": null,
      "outputs": []
    },
    {
      "cell_type": "code",
      "source": [
        "#float to integer\n",
        "a = 3.4\n",
        "type(a)"
      ],
      "metadata": {
        "id": "JwzS-5KR3WES"
      },
      "execution_count": null,
      "outputs": []
    },
    {
      "cell_type": "code",
      "source": [
        "#integer to float\n",
        "a = 2\n",
        "type(a)"
      ],
      "metadata": {
        "id": "hFX-6OPZ3W2y"
      },
      "execution_count": null,
      "outputs": []
    },
    {
      "cell_type": "code",
      "source": [
        "#string to float\n",
        "a = \"2.3\"\n",
        "type(a)"
      ],
      "metadata": {
        "id": "8ICP1wi63Z8S"
      },
      "execution_count": null,
      "outputs": []
    },
    {
      "cell_type": "code",
      "source": [
        "a = \"Ajay\" #character cannot be converted into numbers\n",
        "type(a)"
      ],
      "metadata": {
        "id": "0ZTh5Djp3aVL"
      },
      "execution_count": null,
      "outputs": []
    },
    {
      "cell_type": "markdown",
      "source": [
        "2. Implicit - This is done automatically by python.\n"
      ],
      "metadata": {
        "id": "DNigcpN032Iw"
      }
    },
    {
      "cell_type": "code",
      "source": [
        "#implicit typecasting\n",
        "a = 5\n",
        "type(a)"
      ],
      "metadata": {
        "id": "5X662lcq3hqj"
      },
      "execution_count": null,
      "outputs": []
    },
    {
      "cell_type": "markdown",
      "source": [
        "# Q.6 How do conditional statements work in Python? Illustrate with examples ?\n"
      ],
      "metadata": {
        "id": "4-ue_uE3345Y"
      }
    },
    {
      "cell_type": "markdown",
      "source": [
        "Conditional Statements helps you to code decisions based on some conditions.\n",
        "\n",
        "Conditional Statements are of following types :-\n",
        "\n",
        "1. if - It checks that if the condition is true then particular block of code is executed.\n",
        "\n",
        "\n"
      ],
      "metadata": {
        "id": "Ke6b7Zyl3_zR"
      }
    },
    {
      "cell_type": "code",
      "source": [
        "weather = \"rainy\"\n",
        "if weather == \"rainy\":\n",
        "  print(\"I will not play cricket\")"
      ],
      "metadata": {
        "id": "IQ_u3se_4nHl"
      },
      "execution_count": null,
      "outputs": []
    },
    {
      "cell_type": "markdown",
      "source": [
        "2. if else - It checks that if the condition is true then particular block of code is executed otherwise else block is executed.\n",
        "\n",
        "\n"
      ],
      "metadata": {
        "id": "35k4Y7k95ECj"
      }
    },
    {
      "cell_type": "code",
      "source": [
        "weather = \"Sunny\"\n",
        "if weather == \"Rainy\":\n",
        "  print(\"I will not play cricket\")\n",
        "else:\n",
        "  print(\"I will play cricket\")"
      ],
      "metadata": {
        "id": "UMDNRA7a42ll"
      },
      "execution_count": null,
      "outputs": []
    },
    {
      "cell_type": "markdown",
      "source": [
        "3. if elif else - It is used to check multiple condition in a program.\n"
      ],
      "metadata": {
        "id": "V1e9Xcwe5HV5"
      }
    },
    {
      "cell_type": "code",
      "source": [
        "a = 5\n",
        "b = 6\n",
        "c = 3\n",
        "if a > b and a > c:\n",
        "  print(\"A is Maximum\")\n",
        "elif b > c:\n",
        "  print(\"B is Maximum\")\n",
        "else:\n",
        "  print(\"C is Maximum\")"
      ],
      "metadata": {
        "id": "mrdJlBhx426s"
      },
      "execution_count": null,
      "outputs": []
    },
    {
      "cell_type": "markdown",
      "source": [
        "\n",
        "4. Nested if else - Condition inside another condition is called nested if else statement."
      ],
      "metadata": {
        "id": "jMyN0kAt5J3H"
      }
    },
    {
      "cell_type": "code",
      "source": [
        "is_vip = True\n",
        "age  = 70\n",
        "if is_vip:\n",
        "  if age >= 18:\n",
        "    if age < 65:\n",
        "      print(\"You are a VIP Member\")\n",
        "    else:\n",
        "      print(\"You are a Senior Citizen and you are valueable for us\")\n",
        "  else:\n",
        "    print(\"Yor are under Age\")\n",
        "else:\n",
        "  print(\"You are not a VIP Member\")"
      ],
      "metadata": {
        "id": "fW6_-fLX43He"
      },
      "execution_count": null,
      "outputs": []
    },
    {
      "cell_type": "markdown",
      "source": [
        "# Q.7 Describe the different types of loops in Python and their use cases with examples ?\n",
        "\n"
      ],
      "metadata": {
        "id": "U3uvLrt55Qfs"
      }
    },
    {
      "cell_type": "markdown",
      "source": [
        "1. while loop - It repeatedly executes a block of code until a condition is true.\n",
        "It is used when number of iterations is unknown.\n"
      ],
      "metadata": {
        "id": "v-IBWicI5TSt"
      }
    },
    {
      "cell_type": "code",
      "source": [
        "n = 5\n",
        "i = 1\n",
        "while i < n:\n",
        "  print(i)\n",
        "  i = i + 1"
      ],
      "metadata": {
        "id": "w7h14p0a5cHr"
      },
      "execution_count": null,
      "outputs": []
    },
    {
      "cell_type": "markdown",
      "source": [
        "2. for loop - It iterates over a sequence of elements.\n",
        "It is used when number of iterations is known.\n"
      ],
      "metadata": {
        "id": "mjbMmOKW5mGv"
      }
    },
    {
      "cell_type": "code",
      "source": [
        "a = \"Shayan\"\n",
        "for i in a:\n",
        "  print(i)"
      ],
      "metadata": {
        "id": "XBQLEHB15rm8"
      },
      "execution_count": null,
      "outputs": []
    },
    {
      "cell_type": "markdown",
      "source": [
        "3. Nested Loop - Loops inside loops is called nested loops. Nested loops are used in pattern printing, 2-D arrays, matrix, or there when the concept of rows and columns comes"
      ],
      "metadata": {
        "id": "xLX-KKJd5xoo"
      }
    },
    {
      "cell_type": "code",
      "source": [
        "# Simple Square Pattern\n",
        "row = 1\n",
        "while row <= 4:\n",
        "  col = 1\n",
        "  while col <= 4:\n",
        "    print(\"*\", end = \"\")\n",
        "    col = col + 1\n",
        "  print()\n",
        "  row = row + 1"
      ],
      "metadata": {
        "id": "F-Pnj2KL51x2"
      },
      "execution_count": null,
      "outputs": []
    }
  ]
}