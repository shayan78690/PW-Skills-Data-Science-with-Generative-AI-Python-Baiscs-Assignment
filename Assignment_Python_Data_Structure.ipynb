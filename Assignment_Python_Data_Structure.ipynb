{
  "nbformat": 4,
  "nbformat_minor": 0,
  "metadata": {
    "colab": {
      "provenance": []
    },
    "kernelspec": {
      "name": "python3",
      "display_name": "Python 3"
    },
    "language_info": {
      "name": "python"
    }
  },
  "cells": [
    {
      "cell_type": "markdown",
      "source": [
        "#Question:1 Discuss string slicing and provide examples."
      ],
      "metadata": {
        "id": "Rz0tJTyRxJ5K"
      }
    },
    {
      "cell_type": "markdown",
      "source": [
        "Ans: String slicing means getting the substring of a string. Each element in the string can be accssed by the index. Substring can be extracted using slicing. Slicing can be joined together and altered using a variety of techniques."
      ],
      "metadata": {
        "id": "PVVG6o9rxqW9"
      }
    },
    {
      "cell_type": "code",
      "source": [
        "#Example\n",
        "string1 = \"I am a student\"\n",
        "string1[0:4] #It will give the values from 0th index to 3rd index, 4th index is exclusive"
      ],
      "metadata": {
        "colab": {
          "base_uri": "https://localhost:8080/",
          "height": 35
        },
        "id": "cj0SI2PNxWX6",
        "outputId": "d72e9777-bb21-4e30-88dd-171d4500a743"
      },
      "execution_count": null,
      "outputs": [
        {
          "output_type": "execute_result",
          "data": {
            "text/plain": [
              "'I am'"
            ],
            "application/vnd.google.colaboratory.intrinsic+json": {
              "type": "string"
            }
          },
          "metadata": {},
          "execution_count": 5
        }
      ]
    },
    {
      "cell_type": "markdown",
      "source": [
        "If you not provide ending index then it will automatically consider it until last index and print the substring of all charcters from 0"
      ],
      "metadata": {
        "id": "OfFa_1toziue"
      }
    },
    {
      "cell_type": "code",
      "source": [
        "string2 = \"I am a good boy\"\n",
        "string2[0:]"
      ],
      "metadata": {
        "colab": {
          "base_uri": "https://localhost:8080/",
          "height": 35
        },
        "id": "YQ-VckskzOis",
        "outputId": "cf795b35-d31c-4aab-9335-cff46c3c0996"
      },
      "execution_count": null,
      "outputs": [
        {
          "output_type": "execute_result",
          "data": {
            "text/plain": [
              "'I am a good boy'"
            ],
            "application/vnd.google.colaboratory.intrinsic+json": {
              "type": "string"
            }
          },
          "metadata": {},
          "execution_count": 4
        }
      ]
    },
    {
      "cell_type": "markdown",
      "source": [
        "If you not provide starting index then it will automatically consider it from first index and print the substring of all charcters from 0"
      ],
      "metadata": {
        "id": "RFvOJFiI0TXK"
      }
    },
    {
      "cell_type": "code",
      "source": [
        "string3 = \"pwskills\"\n",
        "string3[:5] #Automatically consider it as from starting index"
      ],
      "metadata": {
        "colab": {
          "base_uri": "https://localhost:8080/",
          "height": 35
        },
        "id": "fqmo4b_qzpLW",
        "outputId": "ac1568e9-fb7c-4d45-85fa-c24db393f53d"
      },
      "execution_count": null,
      "outputs": [
        {
          "output_type": "execute_result",
          "data": {
            "text/plain": [
              "'pwski'"
            ],
            "application/vnd.google.colaboratory.intrinsic+json": {
              "type": "string"
            }
          },
          "metadata": {},
          "execution_count": 6
        }
      ]
    },
    {
      "cell_type": "code",
      "source": [
        "#print string except last 3 characters\n",
        "str1 = \"pwskills\"\n",
        "str1[: -3]"
      ],
      "metadata": {
        "colab": {
          "base_uri": "https://localhost:8080/",
          "height": 35
        },
        "id": "bYCcsFW0z8Ow",
        "outputId": "ec979684-5c40-47a3-8b0d-771c471dccf4"
      },
      "execution_count": null,
      "outputs": [
        {
          "output_type": "execute_result",
          "data": {
            "text/plain": [
              "'pwski'"
            ],
            "application/vnd.google.colaboratory.intrinsic+json": {
              "type": "string"
            }
          },
          "metadata": {},
          "execution_count": 7
        }
      ]
    },
    {
      "cell_type": "code",
      "source": [
        "#Only last three characters\n",
        "str2 = \"pwskills\"\n",
        "str2[-3:]"
      ],
      "metadata": {
        "colab": {
          "base_uri": "https://localhost:8080/",
          "height": 35
        },
        "id": "SsaX6KHF0C3_",
        "outputId": "926876ec-f9be-4ea3-8cc8-359d0b75f31d"
      },
      "execution_count": null,
      "outputs": [
        {
          "output_type": "execute_result",
          "data": {
            "text/plain": [
              "'lls'"
            ],
            "application/vnd.google.colaboratory.intrinsic+json": {
              "type": "string"
            }
          },
          "metadata": {},
          "execution_count": 8
        }
      ]
    },
    {
      "cell_type": "code",
      "source": [
        "#reverse string\n",
        "str2 = \"Hello\"\n",
        "str2[::-1]"
      ],
      "metadata": {
        "colab": {
          "base_uri": "https://localhost:8080/",
          "height": 35
        },
        "id": "0eZtR-Tu0FL3",
        "outputId": "71655e08-3f5e-44ba-f338-343ae57b40ad"
      },
      "execution_count": null,
      "outputs": [
        {
          "output_type": "execute_result",
          "data": {
            "text/plain": [
              "'olleH'"
            ],
            "application/vnd.google.colaboratory.intrinsic+json": {
              "type": "string"
            }
          },
          "metadata": {},
          "execution_count": 9
        }
      ]
    },
    {
      "cell_type": "markdown",
      "source": [
        "\n",
        "#Question:2 Explain the key features of lists in Python.\n"
      ],
      "metadata": {
        "id": "J482k7oY0cj0"
      }
    },
    {
      "cell_type": "markdown",
      "source": [
        "Ans: List is a ordered collection of elements. It is like a shopping bag which can store anything. List is a mutable data structure and it can store any data type.\n",
        "\n",
        "The Key Features of Lists in Python are :\n",
        "\n",
        "1. Lists are mutable means we can add, delete or modify data from it.\n",
        "2. Lists can store any data type like numbers, characters, strings, boolean values, complex numbers.\n",
        "3. Lists are the ordered collection of elements means the elements are stored in a specific order.\n",
        "4. Lists has multiple functions and each function performs its individual task.\n",
        "5. Lists are versatile for storing and managing collections that might change."
      ],
      "metadata": {
        "id": "GZ1wnnvE0lE3"
      }
    },
    {
      "cell_type": "code",
      "source": [
        "#Example\n",
        "grocery_list = [\"Milk\", \"Orange\", 1, 2.2, True, 3+5j]\n",
        "grocery_list"
      ],
      "metadata": {
        "colab": {
          "base_uri": "https://localhost:8080/"
        },
        "id": "WsA72be32IfP",
        "outputId": "f13323f0-7788-4e41-8c0b-2898548091ab"
      },
      "execution_count": null,
      "outputs": [
        {
          "output_type": "execute_result",
          "data": {
            "text/plain": [
              "['Milk', 'Orange', 1, 2.2, True, (3+5j)]"
            ]
          },
          "metadata": {},
          "execution_count": 10
        }
      ]
    },
    {
      "cell_type": "code",
      "source": [
        "grocery_list[0]\n"
      ],
      "metadata": {
        "colab": {
          "base_uri": "https://localhost:8080/",
          "height": 35
        },
        "id": "pb_1x2Fs2Soi",
        "outputId": "89ae94b8-4d33-49ac-e1ef-6e271b6f8cf8"
      },
      "execution_count": null,
      "outputs": [
        {
          "output_type": "execute_result",
          "data": {
            "text/plain": [
              "'Milk'"
            ],
            "application/vnd.google.colaboratory.intrinsic+json": {
              "type": "string"
            }
          },
          "metadata": {},
          "execution_count": 11
        }
      ]
    },
    {
      "cell_type": "code",
      "source": [
        "grocery_list[0] = \"Doodh\" #Lists are mutable so we can change the value\n",
        "grocery_list\n"
      ],
      "metadata": {
        "colab": {
          "base_uri": "https://localhost:8080/"
        },
        "id": "cMqKNKcf2S15",
        "outputId": "cfd28088-a0f8-4f10-f4b4-47296868348c"
      },
      "execution_count": null,
      "outputs": [
        {
          "output_type": "execute_result",
          "data": {
            "text/plain": [
              "['Doodh', 'Orange', 1, 2.2, True, (3+5j)]"
            ]
          },
          "metadata": {},
          "execution_count": 12
        }
      ]
    },
    {
      "cell_type": "code",
      "source": [
        "grocery_list[0:5]\n"
      ],
      "metadata": {
        "colab": {
          "base_uri": "https://localhost:8080/"
        },
        "id": "aHv0vn_Z2ixq",
        "outputId": "424d34f1-8f5e-4897-9b95-c2539f92dfce"
      },
      "execution_count": null,
      "outputs": [
        {
          "output_type": "execute_result",
          "data": {
            "text/plain": [
              "['Doodh', 'Orange', 1, 2.2, True]"
            ]
          },
          "metadata": {},
          "execution_count": 13
        }
      ]
    },
    {
      "cell_type": "markdown",
      "source": [
        "#Question: 3 Describe how to access, modify, and delete elements in a list with examples."
      ],
      "metadata": {
        "id": "3i_upVu-2mgu"
      }
    },
    {
      "cell_type": "markdown",
      "source": [
        "Ans: For accessing, modify and delete elements in a list, we need to perform some inbuilt operations and functions.\n"
      ],
      "metadata": {
        "id": "F6IkwH3c2tV3"
      }
    },
    {
      "cell_type": "markdown",
      "source": [
        "1. Accessing Elements in a list - For accessing elements in a list we need to write operation which is list_name[index]"
      ],
      "metadata": {
        "id": "m5MsKbDz2_BK"
      }
    },
    {
      "cell_type": "code",
      "source": [
        "list1 = [1, 2, 3, 4, \"Shayan\", \"pwskills\"]\n",
        "list1[0]"
      ],
      "metadata": {
        "colab": {
          "base_uri": "https://localhost:8080/"
        },
        "id": "qFEuEy782qBk",
        "outputId": "4f44f451-e543-4751-8767-31ffa33eeedb"
      },
      "execution_count": null,
      "outputs": [
        {
          "output_type": "execute_result",
          "data": {
            "text/plain": [
              "1"
            ]
          },
          "metadata": {},
          "execution_count": 14
        }
      ]
    },
    {
      "cell_type": "code",
      "source": [
        "list1[1]"
      ],
      "metadata": {
        "colab": {
          "base_uri": "https://localhost:8080/"
        },
        "id": "ykq-4RGj3dvI",
        "outputId": "a2ee87a1-f14f-4020-cae5-bef1f22d5357"
      },
      "execution_count": null,
      "outputs": [
        {
          "output_type": "execute_result",
          "data": {
            "text/plain": [
              "2"
            ]
          },
          "metadata": {},
          "execution_count": 15
        }
      ]
    },
    {
      "cell_type": "code",
      "source": [
        "list1[2]"
      ],
      "metadata": {
        "colab": {
          "base_uri": "https://localhost:8080/"
        },
        "id": "FYdUNwME3dzk",
        "outputId": "b721da7a-e9dc-4258-a07e-f8a7a001ebf8"
      },
      "execution_count": null,
      "outputs": [
        {
          "output_type": "execute_result",
          "data": {
            "text/plain": [
              "3"
            ]
          },
          "metadata": {},
          "execution_count": 16
        }
      ]
    },
    {
      "cell_type": "code",
      "source": [
        "list1[4]"
      ],
      "metadata": {
        "colab": {
          "base_uri": "https://localhost:8080/",
          "height": 35
        },
        "id": "1xxEwN9j3d5B",
        "outputId": "10422138-4b71-464c-bd54-b06761db8506"
      },
      "execution_count": null,
      "outputs": [
        {
          "output_type": "execute_result",
          "data": {
            "text/plain": [
              "'Shayan'"
            ],
            "application/vnd.google.colaboratory.intrinsic+json": {
              "type": "string"
            }
          },
          "metadata": {},
          "execution_count": 17
        }
      ]
    },
    {
      "cell_type": "code",
      "source": [
        "list1[5]"
      ],
      "metadata": {
        "colab": {
          "base_uri": "https://localhost:8080/",
          "height": 35
        },
        "id": "__pdU8wN3kAs",
        "outputId": "fe0d7d5b-6998-44e7-8bd6-0949e30a5b3e"
      },
      "execution_count": null,
      "outputs": [
        {
          "output_type": "execute_result",
          "data": {
            "text/plain": [
              "'pwskills'"
            ],
            "application/vnd.google.colaboratory.intrinsic+json": {
              "type": "string"
            }
          },
          "metadata": {},
          "execution_count": 18
        }
      ]
    },
    {
      "cell_type": "code",
      "source": [
        "#We can also use loop to iterate over a string\n",
        "for i in list1:\n",
        "  print(i)"
      ],
      "metadata": {
        "colab": {
          "base_uri": "https://localhost:8080/"
        },
        "id": "pj6uB2673kKU",
        "outputId": "8619b0c1-380a-4bfe-c9ef-5e5ec229d330"
      },
      "execution_count": null,
      "outputs": [
        {
          "output_type": "stream",
          "name": "stdout",
          "text": [
            "1\n",
            "2\n",
            "3\n",
            "4\n",
            "Shayan\n",
            "pwskills\n"
          ]
        }
      ]
    },
    {
      "cell_type": "markdown",
      "source": [
        "2. Modify Element in a list - For this we need to perform\n",
        "list_name[index] = \"value\""
      ],
      "metadata": {
        "id": "gdqqz_gK3wtQ"
      }
    },
    {
      "cell_type": "code",
      "source": [
        "fruits = [\"apple\", \"mango\"]\n",
        "fruits.append(\"orange\")\n",
        "fruits"
      ],
      "metadata": {
        "colab": {
          "base_uri": "https://localhost:8080/"
        },
        "id": "yauyd8jz4Aae",
        "outputId": "42452e7e-0df5-427c-fb6f-db1b4d42d2ec"
      },
      "execution_count": null,
      "outputs": [
        {
          "output_type": "execute_result",
          "data": {
            "text/plain": [
              "['apple', 'mango', 'orange']"
            ]
          },
          "metadata": {},
          "execution_count": 20
        }
      ]
    },
    {
      "cell_type": "code",
      "source": [
        "fruits.insert(1, \"potato\")\n",
        "fruits"
      ],
      "metadata": {
        "colab": {
          "base_uri": "https://localhost:8080/"
        },
        "id": "FO11WdzX4JgA",
        "outputId": "c863dc61-1713-4dea-c1ba-9f36f8d0094c"
      },
      "execution_count": null,
      "outputs": [
        {
          "output_type": "execute_result",
          "data": {
            "text/plain": [
              "['apple', 'potato', 'mango', 'orange']"
            ]
          },
          "metadata": {},
          "execution_count": 21
        }
      ]
    },
    {
      "cell_type": "code",
      "source": [
        "fruits.insert(2, \"maggie\")\n",
        "fruits"
      ],
      "metadata": {
        "colab": {
          "base_uri": "https://localhost:8080/"
        },
        "id": "vz2g2oKR4Mx_",
        "outputId": "86df33f8-01f3-4a92-d89f-482eb18983e5"
      },
      "execution_count": null,
      "outputs": [
        {
          "output_type": "execute_result",
          "data": {
            "text/plain": [
              "['apple', 'potato', 'maggie', 'mango', 'orange']"
            ]
          },
          "metadata": {},
          "execution_count": 22
        }
      ]
    },
    {
      "cell_type": "code",
      "source": [
        "fruits[0] = \"Banana\"\n",
        "fruits"
      ],
      "metadata": {
        "colab": {
          "base_uri": "https://localhost:8080/"
        },
        "id": "P51zno9B4NV4",
        "outputId": "e9e37798-499a-4d36-d52a-0abb3315cfb2"
      },
      "execution_count": null,
      "outputs": [
        {
          "output_type": "execute_result",
          "data": {
            "text/plain": [
              "['Banana', 'potato', 'maggie', 'mango', 'orange']"
            ]
          },
          "metadata": {},
          "execution_count": 23
        }
      ]
    },
    {
      "cell_type": "markdown",
      "source": [
        "3. Delete element in a list - We can delete elements in a list by mutiple ways."
      ],
      "metadata": {
        "id": "qxj2HkLd4Zz9"
      }
    },
    {
      "cell_type": "code",
      "source": [
        "#Deleting specific element\n",
        "list5 = [\"Shayan\", \"pwskills\", \"Data Science\", \"Machine Learning\"]\n",
        "list5.remove(\"Shayan\")\n",
        "list5"
      ],
      "metadata": {
        "colab": {
          "base_uri": "https://localhost:8080/"
        },
        "id": "cNiPRoTM4gcy",
        "outputId": "9f2fbba3-fa58-4047-8f0d-83eee96604fa"
      },
      "execution_count": null,
      "outputs": [
        {
          "output_type": "execute_result",
          "data": {
            "text/plain": [
              "['pwskills', 'Data Science', 'Machine Learning']"
            ]
          },
          "metadata": {},
          "execution_count": 24
        }
      ]
    },
    {
      "cell_type": "code",
      "source": [
        "#Deleting last element\n",
        "list5 = [\"Shayan\", \"pwskills\", \"Data Science\", \"Machine Learning\"]\n",
        "list5.pop()"
      ],
      "metadata": {
        "colab": {
          "base_uri": "https://localhost:8080/",
          "height": 35
        },
        "id": "3H7_-kSG4u6A",
        "outputId": "3086ef6f-d5cd-4f29-e36b-d3194a484970"
      },
      "execution_count": null,
      "outputs": [
        {
          "output_type": "execute_result",
          "data": {
            "text/plain": [
              "'Machine Learning'"
            ],
            "application/vnd.google.colaboratory.intrinsic+json": {
              "type": "string"
            }
          },
          "metadata": {},
          "execution_count": 26
        }
      ]
    },
    {
      "cell_type": "code",
      "source": [
        "#Remove all the elements\n",
        "list6 = [\"Shayan\", 1, 2, 3, 54, 6]\n",
        "list6.clear()\n",
        "list6"
      ],
      "metadata": {
        "colab": {
          "base_uri": "https://localhost:8080/"
        },
        "id": "dn1FYozF4u-I",
        "outputId": "c2800589-3486-4fdf-c25d-422867a2c2cb"
      },
      "execution_count": null,
      "outputs": [
        {
          "output_type": "execute_result",
          "data": {
            "text/plain": [
              "[]"
            ]
          },
          "metadata": {},
          "execution_count": 27
        }
      ]
    },
    {
      "cell_type": "markdown",
      "source": [
        "#Question: 4 Compare and contrast tuples and lists with examples"
      ],
      "metadata": {
        "id": "HKL41IBY5GMc"
      }
    },
    {
      "cell_type": "markdown",
      "source": [
        "List:-\n",
        "\n",
        "\n",
        "1.   List is a ordered collection of elements.\n",
        "2.   It is like a shopping bag which can store anything.\n",
        "3.   Lists are mutable in python.\n",
        "4.   Lists can store any data type.\n",
        "5. We can perform operations in lists like adding element, deleting element, modifying element, etc."
      ],
      "metadata": {
        "id": "Ftg4tjVV5R1l"
      }
    },
    {
      "cell_type": "code",
      "source": [
        "grocery_list = [\"Milk\", \"Orange\", 1, 2.2, True, 3+5j]\n",
        "grocery_list"
      ],
      "metadata": {
        "colab": {
          "base_uri": "https://localhost:8080/"
        },
        "id": "2npezYCY5NEC",
        "outputId": "721af277-e21b-4da3-b970-c37544f7c6eb"
      },
      "execution_count": null,
      "outputs": [
        {
          "output_type": "execute_result",
          "data": {
            "text/plain": [
              "['Milk', 'Orange', 1, 2.2, True, (3+5j)]"
            ]
          },
          "metadata": {},
          "execution_count": 28
        }
      ]
    },
    {
      "cell_type": "markdown",
      "source": [
        "Tuples:-\n",
        "1. Tuple is a ordered collection of elements.\n",
        "2. Tuple can store heterogeneous data.\n",
        "3. Tuples are immutable in python.\n",
        "4. Tuples can store any type of data\n",
        "5. We cannot add, delete, or modify data in tuples."
      ],
      "metadata": {
        "id": "mJR2sJeu5vAQ"
      }
    },
    {
      "cell_type": "code",
      "source": [
        "t = (\"pwskills\", \"Ajay\", 2, 2.3, True, 3+5j)\n",
        "t"
      ],
      "metadata": {
        "colab": {
          "base_uri": "https://localhost:8080/"
        },
        "id": "gwG1eBVb7Dgf",
        "outputId": "7b2147e8-234f-434e-9aff-a128288bfdea"
      },
      "execution_count": null,
      "outputs": [
        {
          "output_type": "execute_result",
          "data": {
            "text/plain": [
              "('pwskills', 'Ajay', 2, 2.3, True, (3+5j))"
            ]
          },
          "metadata": {},
          "execution_count": 29
        }
      ]
    },
    {
      "cell_type": "code",
      "source": [
        "type(t)"
      ],
      "metadata": {
        "colab": {
          "base_uri": "https://localhost:8080/"
        },
        "id": "RpeJ300o7OeK",
        "outputId": "934a96d8-e353-4277-c39e-92eb46564a8f"
      },
      "execution_count": null,
      "outputs": [
        {
          "output_type": "execute_result",
          "data": {
            "text/plain": [
              "tuple"
            ]
          },
          "metadata": {},
          "execution_count": 30
        }
      ]
    },
    {
      "cell_type": "markdown",
      "source": [
        "#Question: 5 Describe the key features of sets and provide examples of their use."
      ],
      "metadata": {
        "id": "P04OnbN57UFD"
      }
    },
    {
      "cell_type": "markdown",
      "source": [
        "Ans: Sets: Sets are the unordered collection of unique elements.\n",
        "\n",
        "Key features of sets:\n",
        "1. Sets doesn't allow duplicate elements.\n",
        "2. Sets are the unordered collection of elements means the elements are not stored in a specific order.\n",
        "3. Sets can store unique elements means.\n",
        "4. Sets are mutable means we can add, delete values in a set.\n",
        "5. We can perform multiple operations on sets like union, intersection, differnce, symmeteric difference."
      ],
      "metadata": {
        "id": "u0umlpdt7Z4b"
      }
    },
    {
      "cell_type": "code",
      "source": [
        "s = {1, 2, 1, 2, 2, \"Ajay\", \"Ajay\", \"Ajay\", \"ajay\", \"ajay\"}\n",
        "s"
      ],
      "metadata": {
        "colab": {
          "base_uri": "https://localhost:8080/"
        },
        "id": "LSJz2jL37XnR",
        "outputId": "d4e68784-95b4-40ee-c357-99184b586e45"
      },
      "execution_count": null,
      "outputs": [
        {
          "output_type": "execute_result",
          "data": {
            "text/plain": [
              "{1, 2, 'Ajay', 'ajay'}"
            ]
          },
          "metadata": {},
          "execution_count": 31
        }
      ]
    },
    {
      "cell_type": "code",
      "source": [
        "#use case\n",
        "list1 = [1, 2, 3, \"Brinjal\", \"Brinjal\", \"Apple\", \"Apple\"]\n",
        "s = set(list1)\n",
        "s"
      ],
      "metadata": {
        "colab": {
          "base_uri": "https://localhost:8080/"
        },
        "id": "7BahExSH8e4u",
        "outputId": "bf0644a0-f6c0-4f5e-f93a-7bd1a3f2ace3"
      },
      "execution_count": null,
      "outputs": [
        {
          "output_type": "execute_result",
          "data": {
            "text/plain": [
              "{1, 2, 3, 'Apple', 'Brinjal'}"
            ]
          },
          "metadata": {},
          "execution_count": 32
        }
      ]
    },
    {
      "cell_type": "code",
      "source": [
        "for i in s:\n",
        "    print(i)"
      ],
      "metadata": {
        "colab": {
          "base_uri": "https://localhost:8080/"
        },
        "id": "S9XDibZJ8m5E",
        "outputId": "6bf8faf2-7b74-4e8c-db29-1bede4828b00"
      },
      "execution_count": null,
      "outputs": [
        {
          "output_type": "stream",
          "name": "stdout",
          "text": [
            "1\n",
            "2\n",
            "3\n",
            "Brinjal\n",
            "Apple\n"
          ]
        }
      ]
    },
    {
      "cell_type": "code",
      "source": [
        "#set is mutable\n",
        "s.add(100)\n",
        "s"
      ],
      "metadata": {
        "colab": {
          "base_uri": "https://localhost:8080/"
        },
        "id": "Un0RjUgZ8qrf",
        "outputId": "e50eff62-801b-4add-8405-3ec973afa020"
      },
      "execution_count": null,
      "outputs": [
        {
          "output_type": "execute_result",
          "data": {
            "text/plain": [
              "{1, 100, 2, 3, 'Apple', 'Brinjal'}"
            ]
          },
          "metadata": {},
          "execution_count": 35
        }
      ]
    },
    {
      "cell_type": "code",
      "source": [
        "s.remove(3) #removes a specific element\n",
        "s"
      ],
      "metadata": {
        "colab": {
          "base_uri": "https://localhost:8080/"
        },
        "id": "Iy5J4Av18wPI",
        "outputId": "90b10cd2-3ba9-43e1-b98a-08754973a487"
      },
      "execution_count": null,
      "outputs": [
        {
          "output_type": "execute_result",
          "data": {
            "text/plain": [
              "{1, 100, 2, 'Apple', 'Brinjal'}"
            ]
          },
          "metadata": {},
          "execution_count": 36
        }
      ]
    },
    {
      "cell_type": "code",
      "source": [
        "s.pop() #it is not compulsory that it will remove the last element"
      ],
      "metadata": {
        "colab": {
          "base_uri": "https://localhost:8080/"
        },
        "id": "_2GUF4GU8z_l",
        "outputId": "09b8bc5c-341a-4c16-fc53-d08d7f83c164"
      },
      "execution_count": null,
      "outputs": [
        {
          "output_type": "execute_result",
          "data": {
            "text/plain": [
              "1"
            ]
          },
          "metadata": {},
          "execution_count": 37
        }
      ]
    },
    {
      "cell_type": "code",
      "source": [
        "s.update([\"Ajay\"])\n",
        "s"
      ],
      "metadata": {
        "colab": {
          "base_uri": "https://localhost:8080/"
        },
        "id": "41oQTil382cm",
        "outputId": "397ab0b9-afb1-4036-e8c2-8e239bfa39f9"
      },
      "execution_count": null,
      "outputs": [
        {
          "output_type": "execute_result",
          "data": {
            "text/plain": [
              "{100, 2, 'Ajay', 'Apple', 'Brinjal'}"
            ]
          },
          "metadata": {},
          "execution_count": 38
        }
      ]
    },
    {
      "cell_type": "code",
      "source": [
        "s.clear()\n",
        "s"
      ],
      "metadata": {
        "colab": {
          "base_uri": "https://localhost:8080/"
        },
        "id": "pfL52e3W851O",
        "outputId": "0d49bd3d-cd3d-43fa-e44e-e2f27a2c56f5"
      },
      "execution_count": null,
      "outputs": [
        {
          "output_type": "execute_result",
          "data": {
            "text/plain": [
              "set()"
            ]
          },
          "metadata": {},
          "execution_count": 39
        }
      ]
    },
    {
      "cell_type": "markdown",
      "source": [
        "#Question: 6 Discuss the use cases of tuples and sets in Python programming."
      ],
      "metadata": {
        "id": "m2xUI90A89ei"
      }
    },
    {
      "cell_type": "markdown",
      "source": [
        "Ans: Tuples and sets in Python have specific use cases based on their unique properties, such as immutability (for tuples) and uniqueness/unordered nature (for sets)."
      ],
      "metadata": {
        "id": "65o-iIY2c0SN"
      }
    },
    {
      "cell_type": "markdown",
      "source": [
        "Usecases of Tuples:-\n",
        "\n",
        "1. Fixed Collections of Data: Tuples are immutable, making them ideal for storing fixed data, like coordinates or RGB color values."
      ],
      "metadata": {
        "id": "epW9S7pRc9xE"
      }
    },
    {
      "cell_type": "code",
      "source": [
        "t = (1, 2, 4.5, \"Shayan\")\n",
        "type(t)"
      ],
      "metadata": {
        "colab": {
          "base_uri": "https://localhost:8080/"
        },
        "id": "dmhPbZ6HdLkv",
        "outputId": "4e9e3661-1b38-4a63-f3fd-85eda21d8e4f"
      },
      "execution_count": 1,
      "outputs": [
        {
          "output_type": "execute_result",
          "data": {
            "text/plain": [
              "tuple"
            ]
          },
          "metadata": {},
          "execution_count": 1
        }
      ]
    },
    {
      "cell_type": "markdown",
      "source": [
        "2. Dictionary Keys: Tuples can be used as keys in dictionaries because they are hashable (immutable)."
      ],
      "metadata": {
        "id": "g1rJMDHKdWR-"
      }
    },
    {
      "cell_type": "code",
      "source": [
        "locations = {(\"New York\", \"USA\"): 8.4, (\"Tokyo\", \"Japan\"): 37.4}\n",
        "locations"
      ],
      "metadata": {
        "colab": {
          "base_uri": "https://localhost:8080/"
        },
        "id": "RGdjFkO3di5y",
        "outputId": "3fdf7b3e-d5d8-4b29-fab7-537c286b0366"
      },
      "execution_count": 3,
      "outputs": [
        {
          "output_type": "execute_result",
          "data": {
            "text/plain": [
              "{('New York', 'USA'): 8.4, ('Tokyo', 'Japan'): 37.4}"
            ]
          },
          "metadata": {},
          "execution_count": 3
        }
      ]
    },
    {
      "cell_type": "markdown",
      "source": [
        "3. Efficient Iteration: Tuples use less memory and are faster to iterate over compared to lists, making them efficient for large collections of read-only data.\n",
        "\n",
        "4. Data Integrity in Collections: If a data collection should remain constant and not accidentally modified, tuples can help ensure integrity.\n"
      ],
      "metadata": {
        "id": "G_M9bnROdslj"
      }
    },
    {
      "cell_type": "markdown",
      "source": [
        "#Question: 7 Describe how to add, modify, and delete items in a dictionary with examples."
      ],
      "metadata": {
        "id": "8dDm3ZC59Pkt"
      }
    },
    {
      "cell_type": "markdown",
      "source": [
        "Use Cases of Sets:\n",
        "\n",
        "1. Unique Items Only: Sets automatically remove duplicates, making them ideal for collections where each item must be unique."
      ],
      "metadata": {
        "id": "05u0BDDed0oc"
      }
    },
    {
      "cell_type": "code",
      "source": [
        "names = [\"Alice\", \"Bob\", \"Alice\", \"Eve\"]\n",
        "unique_names = set(names)\n",
        "unique_names"
      ],
      "metadata": {
        "colab": {
          "base_uri": "https://localhost:8080/"
        },
        "id": "3g8wnSe7d81N",
        "outputId": "baaff53a-ca4a-4de8-be1b-8b30e7a56ea0"
      },
      "execution_count": 5,
      "outputs": [
        {
          "output_type": "execute_result",
          "data": {
            "text/plain": [
              "{'Alice', 'Bob', 'Eve'}"
            ]
          },
          "metadata": {},
          "execution_count": 5
        }
      ]
    },
    {
      "cell_type": "markdown",
      "source": [
        "2. Sets support union, intersection, difference, and symmetric difference, which are useful in many domains like data analysis."
      ],
      "metadata": {
        "id": "qIU4OCrveJA2"
      }
    },
    {
      "cell_type": "code",
      "source": [
        "students_A = {\"Alice\", \"Bob\", \"Charlie\"}\n",
        "students_B = {\"Bob\", \"Diana\", \"Eve\"}\n",
        "both_classes = students_A & students_B\n",
        "both_classes"
      ],
      "metadata": {
        "colab": {
          "base_uri": "https://localhost:8080/"
        },
        "id": "WvB88UzseHyd",
        "outputId": "84f9e9d4-808e-416c-f441-405cb3bc61ea"
      },
      "execution_count": 7,
      "outputs": [
        {
          "output_type": "execute_result",
          "data": {
            "text/plain": [
              "{'Bob'}"
            ]
          },
          "metadata": {},
          "execution_count": 7
        }
      ]
    },
    {
      "cell_type": "markdown",
      "source": [
        "3. Removing Duplicates from a List: Sets can be used to remove duplicates from a list by converting the list to a set and back to a list.\n"
      ],
      "metadata": {
        "id": "0oVOhaRjeTfA"
      }
    },
    {
      "cell_type": "code",
      "source": [
        "numbers = [1, 2, 2, 3, 4, 4, 5]\n",
        "unique_numbers = list(set(numbers))\n",
        "unique_numbers"
      ],
      "metadata": {
        "colab": {
          "base_uri": "https://localhost:8080/"
        },
        "id": "cycLBfQweWYQ",
        "outputId": "141a57d5-7764-4bf2-814b-d1d2c5262b9b"
      },
      "execution_count": 8,
      "outputs": [
        {
          "output_type": "execute_result",
          "data": {
            "text/plain": [
              "[1, 2, 3, 4, 5]"
            ]
          },
          "metadata": {},
          "execution_count": 8
        }
      ]
    },
    {
      "cell_type": "markdown",
      "source": [
        "#Question: 8 Describe how to add, modify, and delete items in a dictionary with examples."
      ],
      "metadata": {
        "id": "z783vlVs9Txn"
      }
    },
    {
      "cell_type": "markdown",
      "source": [
        "Ans:\n",
        "1. Dictionary is a data structure which stores data as key value pairs.\n",
        "2. Keys are unique and immutable\n",
        "3. Dictionaries are unordered but from python 3.7 version, dictionaries retain the order of insertion\n",
        "4. it means if you iterate over a dictionary then elament will be returned in the order they were added"
      ],
      "metadata": {
        "id": "WffGfWG0eeNY"
      }
    },
    {
      "cell_type": "code",
      "source": [
        "d = {\"name\" : \"Shayan\", \"email\" : \"shayaanansari80@gmail.com\", \"Mob. no\" : 1234}\n",
        "d"
      ],
      "metadata": {
        "colab": {
          "base_uri": "https://localhost:8080/"
        },
        "id": "b54eZ0v1e89o",
        "outputId": "60f8ffb2-e9b7-4460-eaa4-f3a92e3ea70a"
      },
      "execution_count": 9,
      "outputs": [
        {
          "output_type": "execute_result",
          "data": {
            "text/plain": [
              "{'name': 'Shayan', 'email': 'shayaanansari80@gmail.com', 'Mob. no': 1234}"
            ]
          },
          "metadata": {},
          "execution_count": 9
        }
      ]
    },
    {
      "cell_type": "markdown",
      "source": [
        "To add items in a dictionary we need to use assignment operator.\n"
      ],
      "metadata": {
        "id": "3HyB4BRde3Q0"
      }
    },
    {
      "cell_type": "code",
      "source": [
        "#Example\n",
        "d = {\"name\" : \"Shayan\", \"email\" : \"shayaanansari80@gmail.com\", \"Mob. no\" : 1234}\n",
        "d[\"CGPA\"] = 8.5\n",
        "d"
      ],
      "metadata": {
        "colab": {
          "base_uri": "https://localhost:8080/"
        },
        "id": "UAIKgD42fIaM",
        "outputId": "673d6b77-2276-4053-cc7a-62893ffa98be"
      },
      "execution_count": 10,
      "outputs": [
        {
          "output_type": "execute_result",
          "data": {
            "text/plain": [
              "{'name': 'Shayan',\n",
              " 'email': 'shayaanansari80@gmail.com',\n",
              " 'Mob. no': 1234,\n",
              " 'CGPA': 8.5}"
            ]
          },
          "metadata": {},
          "execution_count": 10
        }
      ]
    },
    {
      "cell_type": "markdown",
      "source": [
        "To modify element in a dictionary we need to perform this operation."
      ],
      "metadata": {
        "id": "28vEQcITfUVf"
      }
    },
    {
      "cell_type": "code",
      "source": [
        "d = {\"name\" : \"Shayan\", \"email\" : \"shayaanansari80@gmail.com\", \"Mob. no\" : 1234}\n",
        "d[\"name\"] = \"Shandaar\"\n",
        "d"
      ],
      "metadata": {
        "colab": {
          "base_uri": "https://localhost:8080/"
        },
        "id": "mzoENaNmfdae",
        "outputId": "69612c4c-f748-49ea-9f3e-718d369fb2ca"
      },
      "execution_count": 11,
      "outputs": [
        {
          "output_type": "execute_result",
          "data": {
            "text/plain": [
              "{'name': 'Shandaar', 'email': 'shayaanansari80@gmail.com', 'Mob. no': 1234}"
            ]
          },
          "metadata": {},
          "execution_count": 11
        }
      ]
    },
    {
      "cell_type": "markdown",
      "source": [
        "To delete items in a dictionary we need to use del keyword."
      ],
      "metadata": {
        "id": "DikBVXINfk76"
      }
    },
    {
      "cell_type": "code",
      "source": [
        "d = {'name': ['Sanjay', \"Ajay\", 1, 2], 'email': 'aj@gmail.com', 'contact': (1234, 678)}\n",
        "del d[\"contact\"] #This will delete the contac and its value\n",
        "d"
      ],
      "metadata": {
        "colab": {
          "base_uri": "https://localhost:8080/"
        },
        "id": "HuW29b_EfjQ_",
        "outputId": "67846542-3f39-47d8-9090-9a1650000eef"
      },
      "execution_count": 12,
      "outputs": [
        {
          "output_type": "execute_result",
          "data": {
            "text/plain": [
              "{'name': ['Sanjay', 'Ajay', 1, 2], 'email': 'aj@gmail.com'}"
            ]
          },
          "metadata": {},
          "execution_count": 12
        }
      ]
    },
    {
      "cell_type": "code",
      "source": [
        "del d #This will delete the entire dictionary with variable name too.\n",
        "d"
      ],
      "metadata": {
        "colab": {
          "base_uri": "https://localhost:8080/",
          "height": 159
        },
        "id": "7eWE8h_1f5lt",
        "outputId": "be041d57-9c2e-4ec7-cfc6-1ed77477e2d6"
      },
      "execution_count": 13,
      "outputs": [
        {
          "output_type": "error",
          "ename": "NameError",
          "evalue": "name 'd' is not defined",
          "traceback": [
            "\u001b[0;31m---------------------------------------------------------------------------\u001b[0m",
            "\u001b[0;31mNameError\u001b[0m                                 Traceback (most recent call last)",
            "\u001b[0;32m<ipython-input-13-997e98ccd46e>\u001b[0m in \u001b[0;36m<cell line: 2>\u001b[0;34m()\u001b[0m\n\u001b[1;32m      1\u001b[0m \u001b[0;32mdel\u001b[0m \u001b[0md\u001b[0m \u001b[0;31m#This will delete the entire dictionary with variable name too.\u001b[0m\u001b[0;34m\u001b[0m\u001b[0;34m\u001b[0m\u001b[0m\n\u001b[0;32m----> 2\u001b[0;31m \u001b[0md\u001b[0m\u001b[0;34m\u001b[0m\u001b[0;34m\u001b[0m\u001b[0m\n\u001b[0m",
            "\u001b[0;31mNameError\u001b[0m: name 'd' is not defined"
          ]
        }
      ]
    }
  ]
}