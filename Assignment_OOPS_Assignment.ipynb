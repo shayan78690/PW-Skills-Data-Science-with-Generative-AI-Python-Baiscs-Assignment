{
  "nbformat": 4,
  "nbformat_minor": 0,
  "metadata": {
    "colab": {
      "provenance": []
    },
    "kernelspec": {
      "name": "python3",
      "display_name": "Python 3"
    },
    "language_info": {
      "name": "python"
    }
  },
  "cells": [
    {
      "cell_type": "markdown",
      "source": [
        "#Q.1 What are the five key concepts of Object-Oriented Programming (OOP)?"
      ],
      "metadata": {
        "id": "umO5kaSfoBpS"
      }
    },
    {
      "cell_type": "markdown",
      "source": [
        "Ans:- Key Concept of OOP includes:"
      ],
      "metadata": {
        "id": "Ix8ZaDvhq7Zk"
      }
    },
    {
      "cell_type": "markdown",
      "source": [
        "1. Class - class is a user defined data structure that combines the methods and data members into a single entity for the production of objects classes serves as a blueprint or code templates you can make as many objects as you desire using a class."
      ],
      "metadata": {
        "id": "51SsO4UcrCG3"
      }
    },
    {
      "cell_type": "code",
      "source": [
        "#Example\n",
        "class Car:\n",
        "  def __init__(self, brand, model):\n",
        "    self.brand = brand\n",
        "    self.model = model\n",
        "\n",
        "  def display_info(self):\n",
        "    print(f\"Car: {self.brand} {self.model}\")"
      ],
      "metadata": {
        "id": "A8-I9ZlZrbaB"
      },
      "execution_count": 2,
      "outputs": []
    },
    {
      "cell_type": "markdown",
      "source": [
        "2. Object - an instance of a class is called object it consists of a set of methods and attributes actions are carried out using class objects."
      ],
      "metadata": {
        "id": "-njAL2Q0rCNI"
      }
    },
    {
      "cell_type": "code",
      "source": [
        "c = Car(\"Maruti\", \"800\")\n",
        "c.display_info()"
      ],
      "metadata": {
        "colab": {
          "base_uri": "https://localhost:8080/"
        },
        "id": "DAmRirBlsKI3",
        "outputId": "bbc7babe-3154-4ea9-8e6d-c62341053f2a"
      },
      "execution_count": 4,
      "outputs": [
        {
          "output_type": "stream",
          "name": "stdout",
          "text": [
            "Car: Maruti 800\n"
          ]
        }
      ]
    },
    {
      "cell_type": "markdown",
      "source": [
        "3. Encapsulation - encapsulation means hiding something. Binding of data and method of a class is known as encapsulation."
      ],
      "metadata": {
        "id": "u67aH5ynrCVs"
      }
    },
    {
      "cell_type": "code",
      "source": [
        "#Example\n",
        "class BankAccount:\n",
        "    def __init__(self, balance):\n",
        "        self.__balance = balance  #Private attribute\n",
        "\n",
        "    def deposit(self, amount):\n",
        "        self.__balance += amount\n",
        "\n",
        "    def get_balance(self):\n",
        "        return self.__balance"
      ],
      "metadata": {
        "id": "hTkHpgNqstKs"
      },
      "execution_count": 5,
      "outputs": []
    },
    {
      "cell_type": "markdown",
      "source": [
        "4. Inheritance - inheritance is the process by which one class inherits the properties and behaviours of another class, it provides code reusability."
      ],
      "metadata": {
        "id": "xdPYJZuNrCaI"
      }
    },
    {
      "cell_type": "code",
      "source": [
        "class Animal:\n",
        "  def speak(self):\n",
        "    print(\"This animal speaks\")\n",
        "\n",
        "class Dog(Animal):\n",
        "  def speak(self):\n",
        "    print(\"Woof!\")\n",
        "\n",
        "my_dog = Dog()\n",
        "my_dog.speak()\n"
      ],
      "metadata": {
        "colab": {
          "base_uri": "https://localhost:8080/"
        },
        "id": "IsBOKKjptLrp",
        "outputId": "260c84ee-ce0f-4d50-c222-a4fe455b319f"
      },
      "execution_count": 7,
      "outputs": [
        {
          "output_type": "stream",
          "name": "stdout",
          "text": [
            "Woof!\n"
          ]
        }
      ]
    },
    {
      "cell_type": "markdown",
      "source": [
        "5. Polymorphism - polymorphism is a Greek word which is derived from towards poly and morphism poly means many and morphism means state, polymorphism means one name many form it refers to an object capacity to assume several forms.\n",
        "polymorphism is achieved by two ways method overloading and method overriding."
      ],
      "metadata": {
        "id": "nT3RZuPQrCfO"
      }
    },
    {
      "cell_type": "code",
      "source": [
        "class Bird:\n",
        "  def fly(self):\n",
        "    print(\"Birds can fly\")\n",
        "\n",
        "class Penguin(Bird):\n",
        "  def fly(self):\n",
        "    print(\"Penguins can't fly\")\n",
        "\n",
        "my_penguin = Penguin()\n",
        "my_penguin.fly()\n"
      ],
      "metadata": {
        "colab": {
          "base_uri": "https://localhost:8080/"
        },
        "id": "GOhDpUKtt7XX",
        "outputId": "6351c429-fcc7-4c99-bb76-8cb2df1eaf9d"
      },
      "execution_count": 8,
      "outputs": [
        {
          "output_type": "stream",
          "name": "stdout",
          "text": [
            "Penguins can't fly\n"
          ]
        }
      ]
    },
    {
      "cell_type": "markdown",
      "source": [
        "#Q.2  Write a Python class for a `Car` with attributes for `make`, `model`, and `year`. Include a method to display the car's information."
      ],
      "metadata": {
        "id": "wkuLOP06oDOC"
      }
    },
    {
      "cell_type": "code",
      "source": [
        "class Car:\n",
        "  def __init__(self, make, model, year):\n",
        "    self.make = make\n",
        "    self.model = model\n",
        "    self.year = year\n",
        "\n",
        "  def car_info(self):\n",
        "    print(f\"Car: {self.make} {self.model} {self.year}\")\n",
        "\n",
        "c = Car(\"MAHINDRA\", \"BT105\", 2023)\n",
        "print(c.car_info())"
      ],
      "metadata": {
        "colab": {
          "base_uri": "https://localhost:8080/"
        },
        "id": "0yhuhx8xtx9v",
        "outputId": "4c9ae967-e828-46b5-bdd6-8e48dc26a293"
      },
      "execution_count": 10,
      "outputs": [
        {
          "output_type": "stream",
          "name": "stdout",
          "text": [
            "Car: MAHINDRA BT105 2023\n",
            "None\n"
          ]
        }
      ]
    },
    {
      "cell_type": "markdown",
      "source": [
        "# Q.3 Explain the difference between instance methods and class methods. Provide an example of each."
      ],
      "metadata": {
        "id": "1FOt8-2aoDUT"
      }
    },
    {
      "cell_type": "markdown",
      "source": [
        "Ans:- Differnce between class methods and instance methods:"
      ],
      "metadata": {
        "id": "xSatpDCJutAl"
      }
    },
    {
      "cell_type": "markdown",
      "source": [
        "Class Method - class method is bound to the class and not to the particular instance of a class, class Method can access and modify methods and attributes associated to the class across all the instances.\n",
        "class method is the alternative of init method."
      ],
      "metadata": {
        "id": "QsmNupoau0cE"
      }
    },
    {
      "cell_type": "code",
      "source": [
        "# Example\n",
        "class Student:\n",
        "  total_students = 0\n",
        "  def __init__(self, name, age):\n",
        "    self.name = name\n",
        "    self.age = age\n",
        "    Student.total_students += 1\n",
        "\n",
        "  @classmethod\n",
        "  def get_total_students(cls):\n",
        "    return cls.total_students\n",
        "\n",
        "obj1 = Student(\"John\", 25)\n",
        "obj2 = Student(\"David\", 26)\n",
        "obj3 = Student(\"Rocky\", 27)\n",
        "\n",
        "print(Student.get_total_students())"
      ],
      "metadata": {
        "colab": {
          "base_uri": "https://localhost:8080/"
        },
        "id": "6wIHAhDHwBiK",
        "outputId": "5b6a054f-7156-4e74-b988-3ad2e5895e11"
      },
      "execution_count": 13,
      "outputs": [
        {
          "output_type": "stream",
          "name": "stdout",
          "text": [
            "3\n"
          ]
        }
      ]
    },
    {
      "cell_type": "markdown",
      "source": [
        "Instance Method - instance method is used to view and change object state, a method is referred to as an instance method if it uses instance variables."
      ],
      "metadata": {
        "id": "OC0qfrh2vgoH"
      }
    },
    {
      "cell_type": "code",
      "source": [
        "#Example\n",
        "class Student:\n",
        "  def __init__(self, name, age):\n",
        "    self.name = name\n",
        "    self.age = age\n",
        "obj = Student(\"Sahil\", 50)\n",
        "print(obj.name)\n",
        "print(obj.age)"
      ],
      "metadata": {
        "colab": {
          "base_uri": "https://localhost:8080/"
        },
        "id": "F7wp9pwiwCFj",
        "outputId": "68774ea0-af72-4c90-d64f-04029e6d9484"
      },
      "execution_count": 14,
      "outputs": [
        {
          "output_type": "stream",
          "name": "stdout",
          "text": [
            "Sahil\n",
            "50\n"
          ]
        }
      ]
    },
    {
      "cell_type": "markdown",
      "source": [
        "#Q.4  How does Python implement method overloading? Give an example."
      ],
      "metadata": {
        "id": "iS-eBndaoDaz"
      }
    },
    {
      "cell_type": "markdown",
      "source": [
        "Ans:- Method overloading is implemented to achieve polymorphism. Python does not support method overloading directly, it is implemented within the same class. Python provides flexibility to achieve similar functionality using default arguments, variable-length arguments (*args and **kwargs), or by explicitly checking the argument types/number within the method."
      ],
      "metadata": {
        "id": "r7VNu8h0xnvI"
      }
    },
    {
      "cell_type": "code",
      "source": [
        "class Calculator:\n",
        "    def add(self, a, b=0, c=0):\n",
        "        return a + b + c\n",
        "\n",
        "calc = Calculator()\n",
        "print(calc.add(5))\n",
        "print(calc.add(5, 10))\n",
        "print(calc.add(5, 10, 15))"
      ],
      "metadata": {
        "colab": {
          "base_uri": "https://localhost:8080/"
        },
        "id": "Ps-xC7ggxHe5",
        "outputId": "b246518b-1cda-4d72-8e6d-acba9c35c7b9"
      },
      "execution_count": 15,
      "outputs": [
        {
          "output_type": "stream",
          "name": "stdout",
          "text": [
            "5\n",
            "15\n",
            "30\n"
          ]
        }
      ]
    },
    {
      "cell_type": "code",
      "source": [
        "class Calculator:\n",
        "    def add(self, *args):\n",
        "        return sum(args)\n",
        "\n",
        "calc = Calculator()\n",
        "print(calc.add(5))\n",
        "print(calc.add(5, 10))\n",
        "print(calc.add(5, 10, 15, 20))"
      ],
      "metadata": {
        "colab": {
          "base_uri": "https://localhost:8080/"
        },
        "id": "T5oRFtc4yDF4",
        "outputId": "f93d88b2-61b9-4001-bee9-5a04e13f6109"
      },
      "execution_count": 16,
      "outputs": [
        {
          "output_type": "stream",
          "name": "stdout",
          "text": [
            "5\n",
            "15\n",
            "50\n"
          ]
        }
      ]
    },
    {
      "cell_type": "markdown",
      "source": [
        "#Q.5 What are the three types of access modifiers in Python? How are they denoted?"
      ],
      "metadata": {
        "id": "tuBXc3yroDhU"
      }
    },
    {
      "cell_type": "markdown",
      "source": [
        "Ans: Python uses three types of access modifiers. These are not strict as in some other programming languages like Java or C++, rather, Python uses naming conventions to indicate access levels."
      ],
      "metadata": {
        "id": "AhAnw5-VyUDv"
      }
    },
    {
      "cell_type": "markdown",
      "source": [
        "1. Public - Attributes and methods that are accessible from anywhere (inside and outside the class)."
      ],
      "metadata": {
        "id": "5Dp4rzr0yf0S"
      }
    },
    {
      "cell_type": "code",
      "source": [
        "#Example\n",
        "class Student:\n",
        "    def __init__(self):\n",
        "        self.name = \"Public Attribute\"\n",
        "\n",
        "    def greet(self):\n",
        "        return \"Hello, this is a public method!\"\n",
        "\n",
        "obj = Student()\n",
        "print(obj.name)\n",
        "print(obj.greet())\n"
      ],
      "metadata": {
        "colab": {
          "base_uri": "https://localhost:8080/"
        },
        "id": "BHiedc-0yv4j",
        "outputId": "367bc37a-a713-43a1-8b50-12019e7bde51"
      },
      "execution_count": 17,
      "outputs": [
        {
          "output_type": "stream",
          "name": "stdout",
          "text": [
            "Public Attribute\n",
            "Hello, this is a public method!\n"
          ]
        }
      ]
    },
    {
      "cell_type": "markdown",
      "source": [
        "2. Protected :- Attributes and methods that are intended to be accessible only within the class and its subclasses.Use a single leading underscore _."
      ],
      "metadata": {
        "id": "5wiQXFp-y_KO"
      }
    },
    {
      "cell_type": "code",
      "source": [
        "#Example\n",
        "class Student:\n",
        "    def __init__(self):\n",
        "        self._protected_attr = \"Protected Attribute\"\n",
        "\n",
        "    def _protected_method(self):\n",
        "        return \"This is a protected method\"\n",
        "\n",
        "class SubStudent(Student):\n",
        "    def access_protected(self):\n",
        "        return self._protected_method()\n",
        "\n",
        "obj = SubStudent()\n",
        "print(obj._protected_attr)\n",
        "print(obj.access_protected())"
      ],
      "metadata": {
        "colab": {
          "base_uri": "https://localhost:8080/"
        },
        "id": "-aXQ6I8Ey_fN",
        "outputId": "f5bb3283-4534-463d-eadd-96d4cd5bf057"
      },
      "execution_count": 19,
      "outputs": [
        {
          "output_type": "stream",
          "name": "stdout",
          "text": [
            "Protected Attribute\n",
            "This is a protected method\n"
          ]
        }
      ]
    },
    {
      "cell_type": "markdown",
      "source": [
        "3. Private:- Attributes and methods that are intended to be accessible only within the class where they are defined.Use a double leading underscore (\"__\")."
      ],
      "metadata": {
        "id": "r3d9KWV-y_0f"
      }
    },
    {
      "cell_type": "code",
      "source": [
        "#Example\n",
        "class Example:\n",
        "    def __init__(self):\n",
        "        self.__private_attr = \"Private Attribute\"\n",
        "\n",
        "    def __private_method(self):\n",
        "        return \"This is a private method\"\n",
        "\n",
        "    def access_private(self):\n",
        "        return self.__private_method()\n",
        "\n",
        "obj = Example()\n",
        "print(obj._Example__private_attr)\n",
        "print(obj.access_private())\n"
      ],
      "metadata": {
        "colab": {
          "base_uri": "https://localhost:8080/"
        },
        "id": "jI_iZTY9y_-t",
        "outputId": "8695f177-2f5a-44d9-ee30-463533546e5a"
      },
      "execution_count": 20,
      "outputs": [
        {
          "output_type": "stream",
          "name": "stdout",
          "text": [
            "Private Attribute\n",
            "This is a private method\n"
          ]
        }
      ]
    },
    {
      "cell_type": "markdown",
      "source": [
        "#Q.6  Describe the five types of inheritance in Python. Provide a simple example of multiple inheritance."
      ],
      "metadata": {
        "id": "D4f6wStAoDnJ"
      }
    },
    {
      "cell_type": "markdown",
      "source": [
        "Ans:- Inheritance is the process by which one class acquires the properties and behaviours of another class.\n",
        "Types of Inheritence:\n",
        "1. Single Inheritence - when there is only one child class and one parent class in which child class inherit the properties and behaviours of parent class is called single inheritance.\n",
        "\n",
        "\n",
        "2. Multilevel Inheritence - when one class inherit the properties and behaviour of another class and this class's property and behaviour will be inherited by another class is called multilevel inheritance.\n",
        "\n",
        "\n",
        "3. Multiple Inheritence - when there is multiple parent classes which are inherited by one child class is called multiple inheritance.\n",
        "\n",
        "\n",
        "4. Hierarchical Inheritence - when there is only one parent class and multiple child classes which inherit palette class is called hierarchical inheritence.\n",
        "\n",
        "\n",
        "5. Hybrid Inheritence - where a class is derived from multiple classes in a way that combines two or more types of inheritance (e.g., single, multiple, hierarchical, or multilevel).\n",
        "This approach allows for a mix of inheritance patterns, which can be used to model more complex relationships between classes."
      ],
      "metadata": {
        "id": "FM8Q49j60DgY"
      }
    },
    {
      "cell_type": "code",
      "source": [
        "#Example of Multiple Inheritence\n",
        "class Father:\n",
        "  def father_property(self):\n",
        "    print(\"This is Father's Property\")\n",
        "\n",
        "class Mother:\n",
        "  def mother_property(self):\n",
        "    print(\"This is Mother's Property\")\n",
        "\n",
        "class Son(Father, Mother):\n",
        "  def son_property(self):\n",
        "    print(\"This is Son's Property\")\n",
        "\n",
        "\n",
        "s = Son()\n",
        "print(s.son_property())\n",
        "print(s.father_property())\n",
        "print(s.mother_property())"
      ],
      "metadata": {
        "colab": {
          "base_uri": "https://localhost:8080/"
        },
        "id": "K9u_ig10y7EF",
        "outputId": "3f2c36c0-b90b-482c-a947-2c9e60d9fdc1"
      },
      "execution_count": 22,
      "outputs": [
        {
          "output_type": "stream",
          "name": "stdout",
          "text": [
            "This is Son's Property\n",
            "None\n",
            "This is Father's Property\n",
            "None\n",
            "This is Mother's Property\n",
            "None\n"
          ]
        }
      ]
    },
    {
      "cell_type": "markdown",
      "source": [
        "#Q.7  What is the Method Resolution Order (MRO) in Python? How can you retrieve it programmatically?"
      ],
      "metadata": {
        "id": "JBCllvjooDs5"
      }
    },
    {
      "cell_type": "markdown",
      "source": [
        "Ans: Method Resolution Order (MRO) is the order in which Python looks for a method or attribute in a class hierarchy when it is called. MRO determines the sequence of classes to be searched when invoking a method or accessing an attribute.\n",
        "\n",
        "Python follows the C3 Linearization algorithm to determine the MRO for a class. This algorithm ensures:\n",
        "\n",
        "1. The class itself is checked first.\n",
        "2. Parent classes are checked in the order they are listed in the inheritance tuple.\n",
        "3. In case of multiple inheritance, the order respects the depth-first, left-to-right rule."
      ],
      "metadata": {
        "id": "HX3QVYm92WJT"
      }
    },
    {
      "cell_type": "code",
      "source": [
        "#Example\n",
        "class A:\n",
        "    def method(self):\n",
        "        print(\"A\")\n",
        "\n",
        "class B:\n",
        "    def method(self):\n",
        "        print(\"B\")\n",
        "\n",
        "class C(A, B):\n",
        "    pass\n",
        "\n",
        "obj = C()\n",
        "obj.method()\n"
      ],
      "metadata": {
        "colab": {
          "base_uri": "https://localhost:8080/"
        },
        "id": "iNt-7gtH2uU3",
        "outputId": "43d17e89-054f-4d64-ed81-c29e56f65496"
      },
      "execution_count": 23,
      "outputs": [
        {
          "output_type": "stream",
          "name": "stdout",
          "text": [
            "A\n"
          ]
        }
      ]
    },
    {
      "cell_type": "markdown",
      "source": [
        "#Q.8  Create an abstract base class `Shape` with an abstract method `area()`. Then create two subclasses `Circle` and `Rectangle` that implement the `area()` method."
      ],
      "metadata": {
        "id": "SG74lI5roDy5"
      }
    },
    {
      "cell_type": "code",
      "source": [
        "import abc\n",
        "class Shape:\n",
        "  @abc.abstractmethod\n",
        "  def area(self):\n",
        "    pass\n",
        "\n",
        "class Circle(Shape):\n",
        "  def __init__(self, radius):\n",
        "    self.radius = radius\n",
        "\n",
        "  def area(self):\n",
        "    return 3.14 * self.radius * self.radius\n",
        "\n",
        "class Rectangle(Shape):\n",
        "  def __init__(self, length, width):\n",
        "    self.length = length\n",
        "    self.width = width\n",
        "\n",
        "  def area(self):\n",
        "    return self.length * self.width\n",
        "\n",
        "c = Circle(5)\n",
        "r = Rectangle(5, 2)\n",
        "print(c.area())\n",
        "print(r.area())"
      ],
      "metadata": {
        "colab": {
          "base_uri": "https://localhost:8080/"
        },
        "id": "J5dOtqFn5KYF",
        "outputId": "02d56c12-79b5-4bf6-a2d1-362088ac8bfb"
      },
      "execution_count": 26,
      "outputs": [
        {
          "output_type": "stream",
          "name": "stdout",
          "text": [
            "78.5\n",
            "10\n"
          ]
        }
      ]
    },
    {
      "cell_type": "markdown",
      "source": [
        "#Q.9 Demonstrate polymorphism by creating a function that can work with different shape objects to calculate and print their areas."
      ],
      "metadata": {
        "id": "IMT3jmqBoD4q"
      }
    },
    {
      "cell_type": "code",
      "source": [
        "import math\n",
        "\n",
        "class Shape:\n",
        "  def area(self):\n",
        "    pass\n",
        "\n",
        "class Circle(Shape):\n",
        "  def __init__(self, radius):\n",
        "    self.radius = radius\n",
        "\n",
        "  def area(self):\n",
        "    return math.pi * self.radius * self.radius\n",
        "\n",
        "class Rectangle(Shape):\n",
        "  def __init__(self, length, width):\n",
        "    self.length = length\n",
        "    self.width = width\n",
        "\n",
        "  def area(self):\n",
        "    return self.length * self.width\n",
        "\n",
        "class Square(Shape):\n",
        "  def __init__(self, side_length):\n",
        "    self.side_length = side_length\n",
        "\n",
        "  def area(self):\n",
        "    return self.side_length * self.side_length\n",
        "\n",
        "s = Square(4)\n",
        "r = Rectangle(2, 5)\n",
        "c = Circle(3)\n",
        "\n",
        "print(s.area())\n",
        "print(r.area())\n",
        "print(c.area())"
      ],
      "metadata": {
        "colab": {
          "base_uri": "https://localhost:8080/"
        },
        "id": "U3LBdR8i5URv",
        "outputId": "251c2b02-ce5a-49a7-c9d3-2c44438119e9"
      },
      "execution_count": 27,
      "outputs": [
        {
          "output_type": "stream",
          "name": "stdout",
          "text": [
            "16\n",
            "10\n",
            "28.274333882308138\n"
          ]
        }
      ]
    },
    {
      "cell_type": "markdown",
      "source": [
        "#Q.10  Implement encapsulation in a `BankAccount` class with private attributes for `balance` and `account_number`. Include methods for deposit, withdrawal, and balance inquiry."
      ],
      "metadata": {
        "id": "zgp35mUcoD-h"
      }
    },
    {
      "cell_type": "code",
      "source": [
        "class BankAccount:\n",
        "  def __init__(self, balance, account_number):\n",
        "    self.__balance = balance\n",
        "    self.__account_number = account_number\n",
        "\n",
        "  def deposit(self, amount):\n",
        "    self.__balance += amount\n",
        "\n",
        "  def withdraw(self, amount):\n",
        "    if amount <= self.__balance:\n",
        "      self.__balance -= amount\n",
        "    else:\n",
        "      print(\"Insufficient balance\")\n",
        "\n",
        "  def get_balance(self):\n",
        "    return self.__balance\n",
        "\n",
        "  def get_account_number(self):\n",
        "    return self.__account_number\n",
        "\n",
        "obj = BankAccount(1000, \"1234567890\")\n",
        "print(obj.get_account_number())\n",
        "print(obj.get_balance())\n",
        "print(obj.deposit(5000))\n",
        "print(obj.get_balance())"
      ],
      "metadata": {
        "colab": {
          "base_uri": "https://localhost:8080/"
        },
        "id": "g9uTLBg55bRo",
        "outputId": "59b1c3d1-44be-4a34-8bcb-08402ecc1525"
      },
      "execution_count": 31,
      "outputs": [
        {
          "output_type": "stream",
          "name": "stdout",
          "text": [
            "1234567890\n",
            "1000\n",
            "None\n",
            "6000\n"
          ]
        }
      ]
    },
    {
      "cell_type": "markdown",
      "source": [
        "#Q.11 Write a class that overrides the `__str__` and `__add__` magic methods. What will these methods allow you to do?"
      ],
      "metadata": {
        "id": "qfqGBvPjoEEB"
      }
    },
    {
      "cell_type": "markdown",
      "source": [
        "Ans:- In Python, the magic methods __str__ and __add__ are used to customize the behavior of an object for the str() function and the + operator, respectively. Overriding these methods allows us to define specific behaviors for string representation and addition of objects."
      ],
      "metadata": {
        "id": "xR5QYyDc_4rb"
      }
    },
    {
      "cell_type": "code",
      "source": [
        "#Example\n",
        "class CustomNumber:\n",
        "  def __init__(self, value):\n",
        "    self.value = value\n",
        "\n",
        "  def __str__(self):\n",
        "    return f\"CustomNumber({self.value})\"\n",
        "\n",
        "  def __add__(self, other):\n",
        "    return CustomNumber(self.value + other.value)\n",
        "\n",
        "\n",
        "num1 = CustomNumber(10)\n",
        "num2 = CustomNumber(20)\n",
        "\n",
        "print(num1)\n",
        "print(num2)\n",
        "\n",
        "result = num1 + num2\n",
        "print(result)"
      ],
      "metadata": {
        "colab": {
          "base_uri": "https://localhost:8080/"
        },
        "id": "sY4CRdpi53ZU",
        "outputId": "57570572-dfca-4440-a4c1-df5f6bae9a36"
      },
      "execution_count": 32,
      "outputs": [
        {
          "output_type": "stream",
          "name": "stdout",
          "text": [
            "CustomNumber(10)\n",
            "CustomNumber(20)\n",
            "CustomNumber(30)\n"
          ]
        }
      ]
    },
    {
      "cell_type": "markdown",
      "source": [
        "#Q.12 Create a decorator that measures and prints the execution time of a function."
      ],
      "metadata": {
        "id": "ZYt0Z6OXoEJp"
      }
    },
    {
      "cell_type": "code",
      "source": [
        "import time\n",
        "def timer_decorator(func):\n",
        "    def timer():\n",
        "        start = time.time()\n",
        "        func()\n",
        "        end = time.time()\n",
        "        print(\"The time for executing the code\", end-start)\n",
        "    return timer\n",
        "\n",
        "@timer_decorator\n",
        "def func_test():\n",
        "    print(1100000*1000)\n",
        "\n",
        "print(func_test())"
      ],
      "metadata": {
        "colab": {
          "base_uri": "https://localhost:8080/"
        },
        "id": "QtQTcMENAztK",
        "outputId": "fc8bb3fe-383c-4986-b432-1e898c3058c4"
      },
      "execution_count": 33,
      "outputs": [
        {
          "output_type": "stream",
          "name": "stdout",
          "text": [
            "1100000000\n",
            "The time for executing the code 0.0011355876922607422\n",
            "None\n"
          ]
        }
      ]
    },
    {
      "cell_type": "markdown",
      "source": [
        "#Q.13 Explain the concept of the Diamond Problem in multiple inheritance. How does Python resolve it?"
      ],
      "metadata": {
        "id": "bbqNcNVIoEQB"
      }
    },
    {
      "cell_type": "markdown",
      "source": [
        "Ans:- The Diamond Problem occurs in object-oriented programming when a class inherits from two classes that share a common ancestor. This creates an ambiguity about which version of a method or attribute should be inherited when both parent classes define it."
      ],
      "metadata": {
        "id": "fxaSwhhjBUSh"
      }
    },
    {
      "cell_type": "markdown",
      "source": [
        "Python resolves the Diamond Problem using the C3 Linearization algorithm (also called Method Resolution Order, or MRO). The C3 Linearization ensures:\n",
        "\n",
        "1. A consistent order in which methods and attributes are resolved.\n",
        "2. Deterministic behavior in method lookups.\n",
        "3. Avoids ambiguity by creating a linear sequence of the class hierarchy.\n"
      ],
      "metadata": {
        "id": "OHbpqsxnBa9F"
      }
    },
    {
      "cell_type": "code",
      "source": [
        "class A:\n",
        "    def method(self):\n",
        "        print(\"Method in A\")\n",
        "\n",
        "class B(A):\n",
        "    def method(self):\n",
        "        print(\"Method in B\")\n",
        "\n",
        "class C(A):\n",
        "    def method(self):\n",
        "        print(\"Method in C\")\n",
        "\n",
        "class D(B, C):\n",
        "    pass\n",
        "\n",
        "obj = D()\n",
        "obj.method()"
      ],
      "metadata": {
        "colab": {
          "base_uri": "https://localhost:8080/"
        },
        "id": "wy_aHvsnBTdu",
        "outputId": "0967b075-e8bd-4032-f374-0872af9fcecf"
      },
      "execution_count": 34,
      "outputs": [
        {
          "output_type": "stream",
          "name": "stdout",
          "text": [
            "Method in B\n"
          ]
        }
      ]
    },
    {
      "cell_type": "markdown",
      "source": [
        "#Q.14 Write a class method that keeps track of the number of instances created from a class."
      ],
      "metadata": {
        "id": "WIVuU5ONoEVY"
      }
    },
    {
      "cell_type": "code",
      "source": [
        "class InstanceCounter:\n",
        "    instance_count = 0\n",
        "\n",
        "    def __init__(self):\n",
        "        InstanceCounter.instance_count += 1\n",
        "\n",
        "    @classmethod\n",
        "    def get_instance_count(cls):\n",
        "        return cls.instance_count\n",
        "\n",
        "obj1 = InstanceCounter()\n",
        "obj2 = InstanceCounter()\n",
        "obj3 = InstanceCounter()\n",
        "\n",
        "print(f\"Number of instances created: {InstanceCounter.get_instance_count()}\")"
      ],
      "metadata": {
        "colab": {
          "base_uri": "https://localhost:8080/"
        },
        "id": "f69FzqUEBuIh",
        "outputId": "39bac3ca-dacf-440a-e349-b6198975ae5f"
      },
      "execution_count": 35,
      "outputs": [
        {
          "output_type": "stream",
          "name": "stdout",
          "text": [
            "Number of instances created: 3\n"
          ]
        }
      ]
    },
    {
      "cell_type": "markdown",
      "source": [
        "#Q.15  Implement a static method in a class that checks if a given year is a leap year."
      ],
      "metadata": {
        "id": "gOi9-Tu5oEbE"
      }
    },
    {
      "cell_type": "code",
      "source": [
        "class YearUtils:\n",
        "  @staticmethod\n",
        "  def is_leap_year(year):\n",
        "    if (year % 4 == 0 and year % 100 != 0) or (year % 400 == 0):\n",
        "        return True\n",
        "    return False\n",
        "\n",
        "print(YearUtils.is_leap_year(2024))\n",
        "print(YearUtils.is_leap_year(1900))\n",
        "print(YearUtils.is_leap_year(2000))"
      ],
      "metadata": {
        "colab": {
          "base_uri": "https://localhost:8080/"
        },
        "id": "O5KAfD-mB-PC",
        "outputId": "55725c08-a3ed-4964-fa69-fded79247964"
      },
      "execution_count": 36,
      "outputs": [
        {
          "output_type": "stream",
          "name": "stdout",
          "text": [
            "True\n",
            "False\n",
            "True\n"
          ]
        }
      ]
    }
  ]
}